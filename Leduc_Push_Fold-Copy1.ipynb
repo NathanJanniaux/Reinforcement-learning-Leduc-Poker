{
 "cells": [
  {
   "cell_type": "code",
   "execution_count": 1,
   "metadata": {},
   "outputs": [],
   "source": [
    "import random\n",
    "import utils\n",
    "import numpy as np\n",
    "import matplotlib.pyplot as plt"
   ]
  },
  {
   "cell_type": "markdown",
   "metadata": {},
   "source": [
    "# Agent class definition"
   ]
  },
  {
   "cell_type": "markdown",
   "metadata": {},
   "source": [
    "## Q-Learning Agent"
   ]
  },
  {
   "cell_type": "code",
   "execution_count": 2,
   "metadata": {},
   "outputs": [],
   "source": [
    "class QAgent():\n",
    "    qtable=[]\n",
    " # Agent class definition   state=None\n",
    "    learning_rate=0.1\n",
    "    \n",
    "    state=None #0-5\n",
    "    \n",
    "    actions=[]\n",
    "    state_number=6\n",
    "    \n",
    "    perf=[]\n",
    "    \n",
    "    def __init__(self):\n",
    "        #qtable creation\n",
    "        self.qtable=np.zeros((self.state_number,len(game.actions)))\n",
    "        self.perf=[]\n",
    "        \n",
    "    #allow to print leduc game state\n",
    "    def __str__(self):\n",
    "        return \"State = {} \\nQTable = {} \\nLearning rate = {}\".format(self.state,self.qtable,self.learning_rate)\n",
    "    \n",
    "    def explore_action(self):\n",
    "        action=random.randrange(0,2)\n",
    "        return action\n",
    "    \n",
    "    def exploit_action(self):\n",
    "        action=utils.get_max_list(self.qtable[self.state])\n",
    "        return action\n",
    "    \n",
    "    def set_state(self, state):\n",
    "        self.state=state\n",
    "        \n",
    "    def set_qtable(self,qtable):\n",
    "        self.qtable=qtable\n",
    "        \n",
    "    def set_perf(self,perf):\n",
    "        self.perf.append(perf)\n",
    "\n",
    "    def update(self,action,reward):\n",
    "        new_value = (1 - self.learning_rate) * self.qtable[self.state, action] +  self.learning_rate * reward\n",
    "        self.qtable[self.state, action] = new_value"
   ]
  },
  {
   "cell_type": "markdown",
   "metadata": {},
   "source": [
    "## Random Agent"
   ]
  },
  {
   "cell_type": "code",
   "execution_count": 3,
   "metadata": {},
   "outputs": [],
   "source": [
    "class RandAgent():\n",
    "    \n",
    "    action=None\n",
    "           \n",
    "        \n",
    "    def __init__(self):\n",
    "        #qtable creation\n",
    "        self.set_action()\n",
    "        \n",
    "    def set_action(self):\n",
    "        self.action=random.randrange(0,2)\n",
    "        \n",
    "    def get_action(self):\n",
    "        return self.action"
   ]
  },
  {
   "cell_type": "markdown",
   "metadata": {},
   "source": [
    "# LeducGame class definition"
   ]
  },
  {
   "cell_type": "code",
   "execution_count": 4,
   "metadata": {},
   "outputs": [],
   "source": [
    "class LeducGame:\n",
    "    deck = []\n",
    "    actions = [0,1] #0 is fold and 1 is push\n",
    "    firstplayer=None; #0 if player1 and 1 if player2\n",
    "    hand_player1=0;\n",
    "    hand_player2=0;\n",
    "    boardcard=0;\n",
    "    result=0;\n",
    "    \n",
    "    #inititate a game\n",
    "    def __init__(self):\n",
    "        self.deck = [0,0,1,1,2,2]\n",
    "        \n",
    "        #deal card to game from deck\n",
    "        self.hand_player1=utils.choose_and_remove(self.deck)\n",
    "        self.hand_player2=utils.choose_and_remove(self.deck)\n",
    "        self.boardcard=utils.choose_and_remove(self.deck)\n",
    "        self.result=self.get_result()\n",
    "        self.firstplayer=random.randrange(0,2)\n",
    "        \n",
    "    #allow to print leduc game state\n",
    "    def __str__(self):\n",
    "        return \"Player1 = {} \\nPlayer2 = {} \\nBoard = {} \\nDeck = {}\\nResult = {}\".format(self.hand_player1,self.hand_player2,self.boardcard,self.deck, self.result)\n",
    "     \n",
    "    def get_firstplayer(self):\n",
    "            return self.firstplayer\n",
    "        \n",
    "    def get_hand_player1(self):\n",
    "            return self.hand_player1\n",
    "    \n",
    "    #result() : \n",
    "    # 0  -> draw\n",
    "    # 1  -> player1 win\n",
    "    #-1  -> player2 win\n",
    "    \n",
    "    def get_result(self):\n",
    "        #Pairs\n",
    "        if (self.hand_player1==self.boardcard):\n",
    "            result=1\n",
    "        elif (self.hand_player2==self.boardcard):\n",
    "            result=-1\n",
    "        #Highest card\n",
    "        elif (self.hand_player1>self.hand_player2):\n",
    "            result=1\n",
    "        elif(self.hand_player1<self.hand_player2):\n",
    "            result=-1\n",
    "        #Draw\n",
    "        else:\n",
    "            result=0\n",
    "        return result        "
   ]
  },
  {
   "cell_type": "markdown",
   "metadata": {},
   "source": [
    "# Testing LeducGame"
   ]
  },
  {
   "cell_type": "code",
   "execution_count": 5,
   "metadata": {},
   "outputs": [
    {
     "name": "stdout",
     "output_type": "stream",
     "text": [
      "Player1 = 0 \n",
      "Player2 = 0 \n",
      "Board = 1 \n",
      "Deck = [1, 2, 2]\n",
      "Result = 0\n"
     ]
    }
   ],
   "source": [
    "game=LeducGame()\n",
    "print(game)"
   ]
  },
  {
   "cell_type": "markdown",
   "metadata": {},
   "source": [
    "# Environment"
   ]
  },
  {
   "cell_type": "code",
   "execution_count": 6,
   "metadata": {},
   "outputs": [],
   "source": [
    "class Environment:\n",
    "    agent=None\n",
    "    game=None\n",
    "    stack=None\n",
    "    \n",
    "    def __init__(self):\n",
    "        self.game=LeducGame()\n",
    "        self.agent=RandAgent()\n",
    "        self.stack=10\n",
    "        \n",
    "        \n",
    "    def __str__(self):\n",
    "        return \"{} \\nOpponent_Action = {}\\nStack = {}\".format(self.game,self.agent.get_action(),self.stack)\n",
    "    \n",
    "    def get_state(self):\n",
    "        hand1=self.game.get_hand_player1()\n",
    "        first=self.game.get_firstplayer()\n",
    "        \n",
    "        if first is 0:\n",
    "            return hand1\n",
    "        else:\n",
    "            return hand1+3\n",
    "        \n",
    "    def reward(self,qagent_action,state):\n",
    "        r=0\n",
    "        opponent_action=self.agent.get_action()\n",
    "        \n",
    "        if(qagent_action==0):\n",
    "            r=-0.1*self.stack\n",
    "        elif(qagent_action==1 and opponent_action==1):\n",
    "            if(self.game.get_result()==1):\n",
    "                r=self.stack\n",
    "            elif(self.game.get_result()==-1):\n",
    "                r=-self.stack\n",
    "        elif(qagent_action==1 and opponent_action==0):\n",
    "            r=0.1*self.stack\n",
    "        return r\n",
    "    \n",
    "    def reset(self):\n",
    "        self.game=LeducGame() \n",
    "        self.stack=10\n",
    "        \n",
    "    def test(self,n):\n",
    "        r=0\n",
    "        for i in range(n):\n",
    "            r=r+self.reward(self,qagent_action,state) \n",
    "            self.reset() \n",
    "        r=r/n\n",
    "        return r\n",
    "            "
   ]
  },
  {
   "cell_type": "code",
   "execution_count": 7,
   "metadata": {},
   "outputs": [
    {
     "name": "stdout",
     "output_type": "stream",
     "text": [
      "Player1 = 1 \n",
      "Player2 = 0 \n",
      "Board = 2 \n",
      "Deck = [0, 1, 2]\n",
      "Result = 1 \n",
      "Opponent_Action = 0\n",
      "Stack = 10\n",
      "QAgent_action = 0\n",
      "Reward = -1.0\n",
      "1\n",
      "4\n"
     ]
    }
   ],
   "source": [
    "env=Environment()\n",
    "qagent=QAgent()\n",
    "qagent.set_state(env.get_state())\n",
    "qagent_action=qagent.explore_action()\n",
    "print(env)\n",
    "print(\"QAgent_action =\",qagent_action)\n",
    "print(\"Reward =\",env.reward(qagent_action,env.get_state()))\n",
    "print(env.game.get_firstplayer())\n",
    "print(env.get_state())"
   ]
  },
  {
   "cell_type": "code",
   "execution_count": 8,
   "metadata": {},
   "outputs": [
    {
     "name": "stdout",
     "output_type": "stream",
     "text": [
      "[[-1.         -4.69666646]\n",
      " [-1.         -0.11887477]\n",
      " [-1.          6.1574968 ]\n",
      " [-1.         -1.6270239 ]\n",
      " [-1.          1.91723743]\n",
      " [-1.          2.4840245 ]]\n"
     ]
    }
   ],
   "source": [
    "env=Environment()\n",
    "envTest=Environment()\n",
    "qagent=QAgent()\n",
    "epochs_number=10000\n",
    "evaluate_every=1000\n",
    "test_number=1000\n",
    "\n",
    "\n",
    "for i in range(epochs_number):\n",
    "     #test\n",
    "    if(i % evaluate_every == 0):\n",
    "        r=0\n",
    "        for j in range(test_number):\n",
    "            envTest.reset()\n",
    "            qagent.set_state(envTest.get_state())\n",
    "            test_qagent_action=qagent.exploit_action()\n",
    "            r=r+envTest.reward(test_qagent_action,envTest.get_state())\n",
    "        perf=float(r/test_number)\n",
    "        qagent.set_perf(perf)\n",
    "    \n",
    "    env.reset()\n",
    "    qagent.set_state(env.get_state())\n",
    "    qagent_action=qagent.explore_action()\n",
    "    reward=env.reward(qagent_action,env.get_state())\n",
    "    qagent.update(qagent_action,reward)\n",
    "    \n",
    "   \n",
    "    \n",
    "print(qagent.qtable)"
   ]
  },
  {
   "cell_type": "code",
   "execution_count": 9,
   "metadata": {},
   "outputs": [
    {
     "data": {
      "text/plain": [
       "[<matplotlib.lines.Line2D at 0x197605730f0>]"
      ]
     },
     "execution_count": 9,
     "metadata": {},
     "output_type": "execute_result"
    },
    {
     "data": {
      "image/png": "[encoded data removed]",
      "text/plain": [
       "<Figure size 432x288 with 1 Axes>"
      ]
     },
     "metadata": {
      "needs_background": "light"
     },
     "output_type": "display_data"
    }
   ],
   "source": [
    "import matplotlib.pyplot as plt\n",
    "plt.plot(qagent.perf)"
   ]
  },
  {
   "cell_type": "code",
   "execution_count": null,
   "metadata": {},
   "outputs": [],
   "source": []
  }
 ],
 "metadata": {
  "kernelspec": {
   "display_name": "Python 3",
   "language": "python",
   "name": "python3"
  },
  "language_info": {
   "codemirror_mode": {
    "name": "ipython",
    "version": 3
   },
   "file_extension": ".py",
   "mimetype": "text/x-python",
   "name": "python",
   "nbconvert_exporter": "python",
   "pygments_lexer": "ipython3",
   "version": "3.7.3"
  }
 },
 "nbformat": 4,
 "nbformat_minor": 2
}
