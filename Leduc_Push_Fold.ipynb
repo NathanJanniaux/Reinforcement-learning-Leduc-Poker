{
 "cells": [
  {
   "cell_type": "code",
   "execution_count": 52,
   "metadata": {},
   "outputs": [],
   "source": [
    "# this will choose one and remove it\n",
    "def choose_and_remove(items):\n",
    "    # pick an item index\n",
    "    if items:\n",
    "        index = random.randrange( len(items) )\n",
    "        return items.pop(index)\n",
    "    # nothing left!\n",
    "    return None\n",
    "\n",
    "def get_max_list(l):\n",
    "    index, max_val = -1, -1\n",
    "    for i in range(len(l)):\n",
    "        if l[i] > max_val:\n",
    "            index, max_val = i, l[i]\n",
    "    return(index)"
   ]
  },
  {
   "cell_type": "code",
   "execution_count": 53,
   "metadata": {},
   "outputs": [],
   "source": [
    "import random\n",
    "\n",
    "class LeducGame:\n",
    "    deck = []\n",
    "    actions = [0,1] #0 is fold and 1 is push\n",
    "    player1card=0;\n",
    "    player2card=0;\n",
    "    boardcard=0;\n",
    "    result=0;\n",
    "    player2action=0;\n",
    "    \n",
    "    def __init__(self):\n",
    "        self.deck = [0,0,1,1,2,2]\n",
    "        \n",
    "        #deal card to game from deck\n",
    "        self.player1card=choose_and_remove(self.deck)\n",
    "        self.player2card=choose_and_remove(self.deck)\n",
    "        self.boardcard=choose_and_remove(self.deck)\n",
    "        self.result=self.get_result()\n",
    "        \n",
    "        self.player2action=1;\n",
    "\n",
    "    \n",
    "    def __str__(self):\n",
    "        return \"Player1 = {} \\nPlayer2 = {} \\nBoard = {} \\nDeck = {}\\nResult = {}\".format(self.player1card,self.player2card,self.boardcard,self.deck, self.result)\n",
    "    \n",
    "    def reset(self):\n",
    "        self.deck = [0,0,1,1,2,2]\n",
    "        \n",
    "        #deal card to game from deck\n",
    "        self.player1card=choose_and_remove(self.deck)\n",
    "        self.player2card=choose_and_remove(self.deck)\n",
    "        self.boardcard=choose_and_remove(self.deck)\n",
    "        self.result=self.get_result()\n",
    "        \n",
    "        self.player2action=1;\n",
    "        \n",
    "    #result() : \n",
    "    # 0  -> draw\n",
    "    # 1  -> player1 win\n",
    "    #-1  -> player2 win\n",
    "    def get_result(self):\n",
    "    #Pairs\n",
    "        if (self.player1card==self.boardcard):\n",
    "            result=1\n",
    "        elif (self.player1card==self.boardcard):\n",
    "            result=-1\n",
    "    #Highest card\n",
    "        elif (self.player1card>self.player2card):\n",
    "            result=1\n",
    "        elif(self.player1card<self.player2card):\n",
    "            result=-1\n",
    "    #Draw\n",
    "        else:\n",
    "            result=0\n",
    "        return result\n",
    "            \n",
    "    def get_player1state(self):\n",
    "        if self.player2action is not None:\n",
    "            return self.player1card\n",
    "        else:\n",
    "            return self.player1card+3\n",
    "    \n",
    "    def play(self,action):\n",
    "        self.reset()\n",
    "        if(action==self.player2action and action==1):\n",
    "            if(self.result==1):\n",
    "                r=2\n",
    "            else:\n",
    "                r=-2\n",
    "        elif(action<self.player2action):\n",
    "            if(self.result==1):\n",
    "                r=-1\n",
    "            else:\n",
    "                r=1\n",
    "        return r\n",
    "    \n",
    "    def evaluate(self,n):\n",
    "        reward=0\n",
    "        for i in range(0,n):\n",
    "            state=self.get_player1state()\n",
    "            action=get_max_list(self.actions)\n",
    "            reward+=self.play(action)\n",
    "        return float(reward/n)\n",
    "            "
   ]
  },
  {
   "cell_type": "code",
   "execution_count": 54,
   "metadata": {},
   "outputs": [
    {
     "name": "stdout",
     "output_type": "stream",
     "text": [
      "Player1 = 2 \n",
      "Player2 = 1 \n",
      "Board = 1 \n",
      "Deck = [0, 0, 2]\n",
      "Result = 1\n"
     ]
    }
   ],
   "source": [
    "game=LeducGame()\n",
    "print(game)"
   ]
  },
  {
   "cell_type": "code",
   "execution_count": 60,
   "metadata": {},
   "outputs": [
    {
     "name": "stdout",
     "output_type": "stream",
     "text": [
      "[[0. 0.]\n",
      " [0. 0.]\n",
      " [0. 0.]\n",
      " [0. 0.]\n",
      " [0. 0.]\n",
      " [0. 0.]]\n"
     ]
    }
   ],
   "source": [
    "import numpy as np\n",
    "\n",
    "state_number=6\n",
    "qtable=np.zeros((state_number,2))\n",
    "print(qtable)"
   ]
  },
  {
   "cell_type": "code",
   "execution_count": 61,
   "metadata": {},
   "outputs": [],
   "source": [
    "epochs_number=1000000\n",
    "evaluate_every=100000\n",
    "evaluation=[]\n",
    "alpha=0.1\n",
    "\n",
    "for i in range(0, epochs_number):\n",
    "    game=LeducGame()\n",
    "    state = game.get_player1state()\n",
    "\n",
    "    action = random.sample(game.actions,1) # Explore action space\n",
    "\n",
    "    reward=game.play(action[0])\n",
    "    old_value = qtable[state, action]\n",
    "    new_value = (1 - alpha) * old_value + alpha * reward\n",
    "    qtable[state, action] = new_value\n",
    "    if(i % evaluate_every == 0):\n",
    "        evaluation.append(game.evaluate(1000))\n",
    "        #print(game.evaluate(100))"
   ]
  },
  {
   "cell_type": "code",
   "execution_count": 62,
   "metadata": {},
   "outputs": [
    {
     "data": {
      "text/plain": [
       "[<matplotlib.lines.Line2D at 0x1e7483edef0>]"
      ]
     },
     "execution_count": 62,
     "metadata": {},
     "output_type": "execute_result"
    },
    {
     "data": {
      "image/png": "[encoded data removed]",
      "text/plain": [
       "<Figure size 432x288 with 1 Axes>"
      ]
     },
     "metadata": {
      "needs_background": "light"
     },
     "output_type": "display_data"
    }
   ],
   "source": [
    "import matplotlib.pyplot as plt\n",
    "plt.plot(evaluation)"
   ]
  },
  {
   "cell_type": "code",
   "execution_count": 58,
   "metadata": {},
   "outputs": [
    {
     "name": "stdout",
     "output_type": "stream",
     "text": [
      "[[ 0.26825386  1.11210219]\n",
      " [ 0.35920655  0.56218312]\n",
      " [-0.05966666  0.39362435]\n",
      " [ 0.          0.        ]\n",
      " [ 0.          0.        ]\n",
      " [ 0.          0.        ]]\n"
     ]
    }
   ],
   "source": [
    "print(qtable)"
   ]
  },
  {
   "cell_type": "code",
   "execution_count": null,
   "metadata": {},
   "outputs": [],
   "source": []
  }
 ],
 "metadata": {
  "kernelspec": {
   "display_name": "Python 3",
   "language": "python",
   "name": "python3"
  },
  "language_info": {
   "codemirror_mode": {
    "name": "ipython",
    "version": 3
   },
   "file_extension": ".py",
   "mimetype": "text/x-python",
   "name": "python",
   "nbconvert_exporter": "python",
   "pygments_lexer": "ipython3",
   "version": "3.7.3"
  }
 },
 "nbformat": 4,
 "nbformat_minor": 2
}
