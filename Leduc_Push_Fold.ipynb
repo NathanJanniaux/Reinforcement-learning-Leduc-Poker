{
 "cells": [
  {
   "cell_type": "code",
   "execution_count": 1,
   "metadata": {},
   "outputs": [],
   "source": [
    "import random\n",
    "import utils\n",
    "import numpy as np"
   ]
  },
  {
   "cell_type": "markdown",
   "metadata": {},
   "source": [
    "# Agent class definition"
   ]
  },
  {
   "cell_type": "code",
   "execution_count": 12,
   "metadata": {},
   "outputs": [],
   "source": [
    "class QAgent():# LeducGame class definition\n",
    "    qtable=[]\n",
    "    state=None\n",
    "    learning_rate=0.1\n",
    "    actions=[]\n",
    "    state_number=6\n",
    "    perf=[]\n",
    "    \n",
    "    def __init__(self, game):\n",
    "        self.qtable=np.zeros((self.state_number,len(game.actions)))\n",
    "        self.game=game\n",
    "        self.perf=[]\n",
    "    #allow to print leduc game state\n",
    "    def __str__(self):\n",
    "        return \"State = {} \\nQTable = {} \\nLearning rate = {}\".format(self.state,self.qtable,self.learning_rate)\n",
    "    \n",
    "    def get_action(self):\n",
    "        action=random.randrange(0,2)\n",
    "        return action\n",
    "    \n",
    "    def set_state(self):\n",
    "        self.state=self.game.get_player1state()\n",
    "        \n",
    "    def set_qtable(self,qtable):\n",
    "        self.qtable=qtable\n",
    "    \n",
    "    def update(self,action):\n",
    "        reward=self.game.play(action)\n",
    "        new_value = (1 - self.learning_rate) * self.qtable[self.state, action] +  self.learning_rate * reward\n",
    "        self.qtable[self.state, action] = new_value\n",
    "        \n",
    "    def evaluate(self,game,n):\n",
    "        reward=0\n",
    "        for i in range(0,n):\n",
    "            state=game.get_player1state()\n",
    "            action=utils.get_max_list(self.qtable[state])\n",
    "            reward+=game.play(action)\n",
    "        self.perf.append(float(reward/n))\n",
    "        "
   ]
  },
  {
   "cell_type": "code",
   "execution_count": 13,
   "metadata": {},
   "outputs": [],
   "source": [
    "class RandAgent():\n",
    "    qtable=[]\n"
   ]
  },
  {
   "cell_type": "markdown",
   "metadata": {},
   "source": [
    "# LeducGame class definition"
   ]
  },
  {
   "cell_type": "code",
   "execution_count": 14,
   "metadata": {},
   "outputs": [],
   "source": [
    "class LeducGame:\n",
    "    deck = []\n",
    "    actions = [0,1] #0 is fold and 1 is push\n",
    "    player1card=0;\n",
    "    player2card=0;\n",
    "    boardcard=0;\n",
    "    result=0;\n",
    "    player2action=0;\n",
    "    \n",
    "    #inititate a game\n",
    "    def __init__(self):\n",
    "        self.deck = [0,0,1,1,2,2]\n",
    "        \n",
    "        #deal card to game from deck\n",
    "        self.player1card=utils.choose_and_remove(self.deck)\n",
    "        self.player2card=utils.choose_and_remove(self.deck)\n",
    "        self.boardcard=utils.choose_and_remove(self.deck)\n",
    "        self.result=self.get_result()\n",
    "        \n",
    "        self.player2action=1;\n",
    "\n",
    "    #allow to print leduc game state\n",
    "    def __str__(self):\n",
    "        return \"Player1 = {} \\nPlayer2 = {} \\nBoard = {} \\nDeck = {}\\nResult = {}\".format(self.player1card,self.player2card,self.boardcard,self.deck, self.result)\n",
    "    \n",
    "    #reset to a new game state\n",
    "    def reset(self):\n",
    "        self.deck = [0,0,1,1,2,2]\n",
    "        \n",
    "        #deal card to game from deck\n",
    "        self.player1card=utils.choose_and_remove(self.deck)\n",
    "        self.player2card=utils.choose_and_remove(self.deck)\n",
    "        self.boardcard=utils.choose_and_remove(self.deck)\n",
    "        self.result=self.get_result()\n",
    "        \n",
    "        self.player2action=1;\n",
    "        \n",
    "    #result() : \n",
    "    # 0  -> draw\n",
    "    # 1  -> player1 win\n",
    "    #-1  -> player2 win\n",
    "    def get_result(self):\n",
    "        #Pairs\n",
    "        if (self.player1card==self.boardcard):\n",
    "            result=1\n",
    "        elif (self.player1card==self.boardcard):\n",
    "            result=-1\n",
    "        #Highest card\n",
    "        elif (self.player1card>self.player2card):\n",
    "            result=1\n",
    "        elif(self.player1card<self.player2card):\n",
    "            result=-1\n",
    "        #Draw\n",
    "        else:\n",
    "            result=0\n",
    "        return result\n",
    "            \n",
    "    def get_player1state(self):\n",
    "        if self.player2action is None:\n",
    "            return self.player1card\n",
    "        else:\n",
    "            return self.player1card+3\n",
    "    \n",
    "    def play(self,action):\n",
    "        self.reset()\n",
    "        r=0\n",
    "        if(action==self.player2action and action==1):\n",
    "            if(self.result==1):\n",
    "                r=2\n",
    "            elif(self.result==-1):\n",
    "                r=-2\n",
    "        elif(action<self.player2action):\n",
    "            if(self.result==1):\n",
    "                r=-1\n",
    "            elif(self.result==-1):\n",
    "                r=1\n",
    "        return r          "
   ]
  },
  {
   "cell_type": "markdown",
   "metadata": {},
   "source": [
    "# Testing LeducGame"
   ]
  },
  {
   "cell_type": "code",
   "execution_count": 15,
   "metadata": {},
   "outputs": [
    {
     "name": "stdout",
     "output_type": "stream",
     "text": [
      "Player1 = 0 \n",
      "Player2 = 2 \n",
      "Board = 1 \n",
      "Deck = [0, 1, 2]\n",
      "Result = -1\n"
     ]
    }
   ],
   "source": [
    "game=LeducGame()\n",
    "print(game)"
   ]
  },
  {
   "cell_type": "markdown",
   "metadata": {},
   "source": [
    "# Creating the QTable"
   ]
  },
  {
   "cell_type": "markdown",
   "metadata": {},
   "source": [
    "<img src=\"qtable.png\" />."
   ]
  },
  {
   "cell_type": "code",
   "execution_count": 16,
   "metadata": {},
   "outputs": [
    {
     "name": "stdout",
     "output_type": "stream",
     "text": [
      "[[0. 0.]\n",
      " [0. 0.]\n",
      " [0. 0.]\n",
      " [0. 0.]\n",
      " [0. 0.]\n",
      " [0. 0.]]\n"
     ]
    }
   ],
   "source": [
    "state_number=6\n",
    "qtable=np.zeros((state_number,2))\n",
    "print(qtable)"
   ]
  },
  {
   "cell_type": "markdown",
   "metadata": {},
   "source": [
    "# Learning alg"
   ]
  },
  {
   "cell_type": "code",
   "execution_count": 23,
   "metadata": {},
   "outputs": [
    {
     "name": "stdout",
     "output_type": "stream",
     "text": [
      "[[ 0.          0.        ]\n",
      " [ 0.          0.        ]\n",
      " [ 0.          0.        ]\n",
      " [ 0.13033177  0.61253676]\n",
      " [-0.52120666  0.17799593]\n",
      " [-0.02271292 -0.20864099]]\n"
     ]
    }
   ],
   "source": [
    "import matplotlib.pyplot as plt\n",
    "epochs_number=10000\n",
    "evaluate_every=1000\n",
    "evaluation=[]\n",
    "agent=QAgent(game)\n",
    "\n",
    "for i in range(0, epochs_number):\n",
    "\n",
    "    if(i % evaluate_every == 0):\n",
    "        eval_game=LeducGame()\n",
    "        agent.evaluate(eval_game,10000)\n",
    " \n",
    "    agent.set_state()\n",
    "    action = agent.get_action() # Explore action space\n",
    "    agent.update(action)\n",
    "\n",
    "print(agent.qtable)"
   ]
  },
  {
   "cell_type": "markdown",
   "metadata": {},
   "source": [
    "# Plotting results"
   ]
  },
  {
   "cell_type": "code",
   "execution_count": 22,
   "metadata": {},
   "outputs": [
    {
     "data": {
      "text/plain": [
       "[<matplotlib.lines.Line2D at 0x1e065c73400>]"
      ]
     },
     "execution_count": 22,
     "metadata": {},
     "output_type": "execute_result"
    },
    {
     "data": {
      "image/png": "[encoded data removed]",
      "text/plain": [
       "<Figure size 432x288 with 1 Axes>"
      ]
     },
     "metadata": {
      "needs_background": "light"
     },
     "output_type": "display_data"
    }
   ],
   "source": [
    "plt.plot(agent.perf)"
   ]
  },
  {
   "cell_type": "code",
   "execution_count": null,
   "metadata": {},
   "outputs": [],
   "source": []
  }
 ],
 "metadata": {
  "kernelspec": {
   "display_name": "Python 3",
   "language": "python",
   "name": "python3"
  },
  "language_info": {
   "codemirror_mode": {
    "name": "ipython",
    "version": 3
   },
   "file_extension": ".py",
   "mimetype": "text/x-python",
   "name": "python",
   "nbconvert_exporter": "python",
   "pygments_lexer": "ipython3",
   "version": "3.7.3"
  }
 },
 "nbformat": 4,
 "nbformat_minor": 2
}
