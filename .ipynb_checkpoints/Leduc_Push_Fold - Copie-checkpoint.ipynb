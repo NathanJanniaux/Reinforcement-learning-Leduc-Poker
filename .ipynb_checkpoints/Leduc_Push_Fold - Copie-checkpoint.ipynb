{
 "cells": [
  {
   "cell_type": "code",
   "execution_count": 1,
   "metadata": {},
   "outputs": [],
   "source": [
    "import random\n",
    "import utils\n",
    "import numpy as np\n",
    "import matplotlib.pyplot as plt"
   ]
  },
  {
   "cell_type": "markdown",
   "metadata": {},
   "source": [
    "# Agent class definition"
   ]
  },
  {
   "cell_type": "markdown",
   "metadata": {},
   "source": [
    "## Q-Learning Agent"
   ]
  },
  {
   "cell_type": "code",
   "execution_count": 7,
   "metadata": {},
   "outputs": [],
   "source": [
    "class QAgent():# LeducGame class definition\n",
    "    qtable=[]\n",
    " # Agent class definition   state=None\n",
    "    learning_rate=0.1\n",
    "    actions=[]\n",
    "    state_number=6\n",
    "    perf=[]\n",
    "    \n",
    "    def __init__(self):\n",
    "        self.qtable=np.zeros((self.state_number,2))\n",
    "        self.perf=[]\n",
    "    #allow to print leduc game state\n",
    "    def __str__(self):\n",
    "        return \"State = {} \\nQTable = {} \\nLearning rate = {}\".format(self.state,self.qtable,self.learning_rate)\n",
    "    \n",
    "    def get_action(self):\n",
    "        action=random.randrange(0,2)\n",
    "        return action\n",
    "    \n",
    "#    def set_state(self):\n",
    "#        self.state=self.game.get_player1state()\n",
    "\n",
    "    def set_state(self,state):\n",
    "        self.state=state    \n",
    "    \n",
    "    def set_qtable(self,qtable):\n",
    "        self.qtable=qtable\n",
    "    \n",
    "#    def update(self,action):\n",
    "#        reward=self.game.play(action)\n",
    "#        new_value = (1 - self.learning_rate) * self.qtable[self.state, action] +  self.learning_rate * reward\n",
    "#        self.qtable[self.state, action] = new_value\n",
    "        \n",
    "    def update(self,action, reward):\n",
    "        new_value = (1 - self.learning_rate) * self.qtable[self.state, action] +  self.learning_rate * reward\n",
    "        self.qtable[self.state, action] = new_value\n",
    "\n",
    "    def evaluate(self,game,n):\n",
    "        reward=0\n",
    "        for i in range(0,n):\n",
    "            state=game.get_player1state()\n",
    "            action=utils.get_max_list(self.qtable[state])\n",
    "            reward+=game.play(action)\n",
    "        self.perf.append(float(reward/n))\n",
    "        "
   ]
  },
  {
   "cell_type": "markdown",
   "metadata": {},
   "source": [
    "## Random Agent"
   ]
  },
  {
   "cell_type": "code",
   "execution_count": 8,
   "metadata": {},
   "outputs": [],
   "source": [
    "class RandAgent():\n",
    "    state=None\n",
    "    actions=[]\n",
    "    perf=[]\n",
    "    \n",
    "#    def set_state(self):\n",
    "#       self.state=self.game.get_player1state()\n",
    "\n",
    "    def evaluate(self,game,n):\n",
    "        reward=0\n",
    "        for i in range(0,n):\n",
    "            state=game.get_player1state()\n",
    "            action=self.get_action()\n",
    "            reward+=game.play(action)\n",
    "        self.perf.append(float(reward/n))\n",
    "        \n",
    "    def __init__(self):\n",
    "        self.perf=[]\n",
    "        \n",
    "    def __str__(self):\n",
    "        return \"State = {}\".format(self.state)\n",
    "    \n",
    "    def get_action(self):\n",
    "        action=random.randrange(0,2)\n",
    "        return action\n",
    "    "
   ]
  },
  {
   "cell_type": "markdown",
   "metadata": {},
   "source": [
    "# LeducGame class definition"
   ]
  },
  {
   "cell_type": "code",
   "execution_count": 11,
   "metadata": {},
   "outputs": [],
   "source": [
    "class LeducGame:\n",
    "    deck = []\n",
    "    actions = [0,1] #0 is fold and 1 is push\n",
    "    firstplayer=None; #0 if player1 and 1 if player2\n",
    "    player1=None\n",
    "    player2=None\n",
    "    player1card=0;\n",
    "    player2card=0;\n",
    "    boardcard=0;\n",
    "    result=0;\n",
    "    player2action=0;\n",
    "    \n",
    "    #inititate a game\n",
    "    #player1 will be the player to train\n",
    "    def __init__(self, player1, player2):\n",
    "        self.deck = [0,0,1,1,2,2]\n",
    "        \n",
    "        #deal card to game from deck\n",
    "        self.player1card=utils.choose_and_remove(self.deck)\n",
    "        self.player2card=utils.choose_and_remove(self.deck)\n",
    "        self.boardcard=utils.choose_and_remove(self.deck)\n",
    "        self.result=self.get_result()\n",
    "        self.firstplayer=random.randrange(0,2)\n",
    "        self.player1=player1\n",
    "        self.player2=player2\n",
    "\n",
    "\n",
    "    #allow to print leduc game state\n",
    "    def __str__(self):\n",
    "        return \"Player1 = {} \\nPlayer2 = {} \\nBoard = {} \\nDeck = {}\\nResult = {}\".format(self.player1card,self.player2card,self.boardcard,self.deck, self.result)\n",
    "    \n",
    "    #reset to a new game state\n",
    "    def reset(self,  player1, player2):\n",
    "        self.deck = [0,0,1,1,2,2]\n",
    "        \n",
    "        #deal card to game from deck\n",
    "        self.player1card=utils.choose_and_remove(self.deck)\n",
    "        self.player2card=utils.choose_and_remove(self.deck)\n",
    "        self.boardcard=utils.choose_and_remove(self.deck)\n",
    "        self.result=self.get_result()\n",
    "        self.player1=player1\n",
    "        self.player2=player2\n",
    "        \n",
    "        \n",
    "    #result() : \n",
    "    # 0  -> draw\n",
    "    # 1  -> player1 win\n",
    "    #-1  -> player2 win\n",
    "    def get_result(self):\n",
    "        #Pairs\n",
    "        if (self.player1card==self.boardcard):\n",
    "            result=1\n",
    "        elif (self.player2card==self.boardcard):\n",
    "            result=-1\n",
    "        #Highest card\n",
    "        elif (self.player1card>self.player2card):\n",
    "            result=1\n",
    "        elif(self.player1card<self.player2card):\n",
    "            result=-1\n",
    "        #Draw\n",
    "        else:\n",
    "            result=0\n",
    "        return result\n",
    "            \n",
    "    def get_player1state(self):\n",
    "        if self.player2action is None:\n",
    "            return self.player1card\n",
    "        else:\n",
    "            return self.player1card+3\n",
    "    \n",
    "    def play(self,action):\n",
    "        r=0\n",
    "        if(action==self.player2action and action==1):\n",
    "            if(self.result==1):\n",
    "                r=1\n",
    "            elif(self.result==-1):\n",
    "                r=-1\n",
    "        elif(action<self.player2action):\n",
    "            if(self.result==1):\n",
    "                r=-1\n",
    "            elif(self.result==-1):\n",
    "                r=1\n",
    "        self.reset()\n",
    "        return r      \n",
    "    \n",
    "    def run_evaluation(self, game, n):\n",
    "        if(self.firstplayer == 1):\n",
    "            action = self.player2.get_action()\n",
    "            if (action==0):\n",
    "                return\n",
    "            self.player1.evaluate(game,n)\n",
    "        elif(self.firstplayer == 0):\n",
    "            self.player1.evaluate(game,n)\n",
    "            \n",
    "            "
   ]
  },
  {
   "cell_type": "code",
   "execution_count": 12,
   "metadata": {},
   "outputs": [
    {
     "ename": "NameError",
     "evalue": "name 'player1' is not defined",
     "output_type": "error",
     "traceback": [
      "\u001b[1;31m---------------------------------------------------------------------------\u001b[0m",
      "\u001b[1;31mNameError\u001b[0m                                 Traceback (most recent call last)",
      "\u001b[1;32m<ipython-input-12-dd4d327fa753>\u001b[0m in \u001b[0;36m<module>\u001b[1;34m\u001b[0m\n\u001b[0;32m     10\u001b[0m     \u001b[1;32mif\u001b[0m\u001b[1;33m(\u001b[0m\u001b[0mi\u001b[0m \u001b[1;33m%\u001b[0m \u001b[0mevaluate_every\u001b[0m \u001b[1;33m==\u001b[0m \u001b[1;36m0\u001b[0m\u001b[1;33m)\u001b[0m\u001b[1;33m:\u001b[0m\u001b[1;33m\u001b[0m\u001b[1;33m\u001b[0m\u001b[0m\n\u001b[0;32m     11\u001b[0m         \u001b[0meval_game\u001b[0m\u001b[1;33m=\u001b[0m\u001b[0mLeducGame\u001b[0m\u001b[1;33m(\u001b[0m\u001b[0magent\u001b[0m\u001b[1;33m,\u001b[0m \u001b[0mrand_agent\u001b[0m\u001b[1;33m)\u001b[0m\u001b[1;33m\u001b[0m\u001b[1;33m\u001b[0m\u001b[0m\n\u001b[1;32m---> 12\u001b[1;33m         \u001b[0mgame\u001b[0m\u001b[1;33m.\u001b[0m\u001b[0mrun_evaluation\u001b[0m\u001b[1;33m(\u001b[0m\u001b[0meval_game\u001b[0m\u001b[1;33m,\u001b[0m\u001b[1;36m10000\u001b[0m\u001b[1;33m)\u001b[0m\u001b[1;33m\u001b[0m\u001b[1;33m\u001b[0m\u001b[0m\n\u001b[0m\u001b[0;32m     13\u001b[0m \u001b[1;33m\u001b[0m\u001b[0m\n\u001b[0;32m     14\u001b[0m     \u001b[0mgame\u001b[0m\u001b[1;33m.\u001b[0m\u001b[0mplayer1\u001b[0m\u001b[1;33m.\u001b[0m\u001b[0mset_state\u001b[0m\u001b[1;33m(\u001b[0m\u001b[0mgame\u001b[0m\u001b[1;33m.\u001b[0m\u001b[0mget_player1state\u001b[0m\u001b[1;33m(\u001b[0m\u001b[1;33m)\u001b[0m\u001b[1;33m)\u001b[0m\u001b[1;33m\u001b[0m\u001b[1;33m\u001b[0m\u001b[0m\n",
      "\u001b[1;32m<ipython-input-11-765812cde82d>\u001b[0m in \u001b[0;36mrun_evaluation\u001b[1;34m(self, game, n)\u001b[0m\n\u001b[0;32m     91\u001b[0m             \u001b[0mself\u001b[0m\u001b[1;33m.\u001b[0m\u001b[0mplayer1\u001b[0m\u001b[1;33m.\u001b[0m\u001b[0mevaluate\u001b[0m\u001b[1;33m(\u001b[0m\u001b[0mgame\u001b[0m\u001b[1;33m,\u001b[0m\u001b[0mn\u001b[0m\u001b[1;33m)\u001b[0m\u001b[1;33m\u001b[0m\u001b[1;33m\u001b[0m\u001b[0m\n\u001b[0;32m     92\u001b[0m         \u001b[1;32melif\u001b[0m\u001b[1;33m(\u001b[0m\u001b[0mself\u001b[0m\u001b[1;33m.\u001b[0m\u001b[0mfirstplayer\u001b[0m \u001b[1;33m==\u001b[0m \u001b[1;36m0\u001b[0m\u001b[1;33m)\u001b[0m\u001b[1;33m:\u001b[0m\u001b[1;33m\u001b[0m\u001b[1;33m\u001b[0m\u001b[0m\n\u001b[1;32m---> 93\u001b[1;33m             \u001b[0mself\u001b[0m\u001b[1;33m.\u001b[0m\u001b[0mplayer1\u001b[0m\u001b[1;33m.\u001b[0m\u001b[0mevaluate\u001b[0m\u001b[1;33m(\u001b[0m\u001b[0mgame\u001b[0m\u001b[1;33m,\u001b[0m\u001b[0mn\u001b[0m\u001b[1;33m)\u001b[0m\u001b[1;33m\u001b[0m\u001b[1;33m\u001b[0m\u001b[0m\n\u001b[0m\u001b[0;32m     94\u001b[0m \u001b[1;33m\u001b[0m\u001b[0m\n\u001b[0;32m     95\u001b[0m \u001b[1;33m\u001b[0m\u001b[0m\n",
      "\u001b[1;32m<ipython-input-7-342149816fd6>\u001b[0m in \u001b[0;36mevaluate\u001b[1;34m(self, game, n)\u001b[0m\n\u001b[0;32m     41\u001b[0m             \u001b[0mstate\u001b[0m\u001b[1;33m=\u001b[0m\u001b[0mgame\u001b[0m\u001b[1;33m.\u001b[0m\u001b[0mget_player1state\u001b[0m\u001b[1;33m(\u001b[0m\u001b[1;33m)\u001b[0m\u001b[1;33m\u001b[0m\u001b[1;33m\u001b[0m\u001b[0m\n\u001b[0;32m     42\u001b[0m             \u001b[0maction\u001b[0m\u001b[1;33m=\u001b[0m\u001b[0mutils\u001b[0m\u001b[1;33m.\u001b[0m\u001b[0mget_max_list\u001b[0m\u001b[1;33m(\u001b[0m\u001b[0mself\u001b[0m\u001b[1;33m.\u001b[0m\u001b[0mqtable\u001b[0m\u001b[1;33m[\u001b[0m\u001b[0mstate\u001b[0m\u001b[1;33m]\u001b[0m\u001b[1;33m)\u001b[0m\u001b[1;33m\u001b[0m\u001b[1;33m\u001b[0m\u001b[0m\n\u001b[1;32m---> 43\u001b[1;33m             \u001b[0mreward\u001b[0m\u001b[1;33m+=\u001b[0m\u001b[0mgame\u001b[0m\u001b[1;33m.\u001b[0m\u001b[0mplay\u001b[0m\u001b[1;33m(\u001b[0m\u001b[0maction\u001b[0m\u001b[1;33m)\u001b[0m\u001b[1;33m\u001b[0m\u001b[1;33m\u001b[0m\u001b[0m\n\u001b[0m\u001b[0;32m     44\u001b[0m         \u001b[0mself\u001b[0m\u001b[1;33m.\u001b[0m\u001b[0mperf\u001b[0m\u001b[1;33m.\u001b[0m\u001b[0mappend\u001b[0m\u001b[1;33m(\u001b[0m\u001b[0mfloat\u001b[0m\u001b[1;33m(\u001b[0m\u001b[0mreward\u001b[0m\u001b[1;33m/\u001b[0m\u001b[0mn\u001b[0m\u001b[1;33m)\u001b[0m\u001b[1;33m)\u001b[0m\u001b[1;33m\u001b[0m\u001b[1;33m\u001b[0m\u001b[0m\n\u001b[0;32m     45\u001b[0m \u001b[1;33m\u001b[0m\u001b[0m\n",
      "\u001b[1;32m<ipython-input-11-765812cde82d>\u001b[0m in \u001b[0;36mplay\u001b[1;34m(self, action)\u001b[0m\n\u001b[0;32m     81\u001b[0m             \u001b[1;32melif\u001b[0m\u001b[1;33m(\u001b[0m\u001b[0mself\u001b[0m\u001b[1;33m.\u001b[0m\u001b[0mresult\u001b[0m\u001b[1;33m==\u001b[0m\u001b[1;33m-\u001b[0m\u001b[1;36m1\u001b[0m\u001b[1;33m)\u001b[0m\u001b[1;33m:\u001b[0m\u001b[1;33m\u001b[0m\u001b[1;33m\u001b[0m\u001b[0m\n\u001b[0;32m     82\u001b[0m                 \u001b[0mr\u001b[0m\u001b[1;33m=\u001b[0m\u001b[1;36m1\u001b[0m\u001b[1;33m\u001b[0m\u001b[1;33m\u001b[0m\u001b[0m\n\u001b[1;32m---> 83\u001b[1;33m         \u001b[0mself\u001b[0m\u001b[1;33m.\u001b[0m\u001b[0mreset\u001b[0m\u001b[1;33m(\u001b[0m\u001b[1;33m)\u001b[0m\u001b[1;33m\u001b[0m\u001b[1;33m\u001b[0m\u001b[0m\n\u001b[0m\u001b[0;32m     84\u001b[0m         \u001b[1;32mreturn\u001b[0m \u001b[0mr\u001b[0m\u001b[1;33m\u001b[0m\u001b[1;33m\u001b[0m\u001b[0m\n\u001b[0;32m     85\u001b[0m \u001b[1;33m\u001b[0m\u001b[0m\n",
      "\u001b[1;32m<ipython-input-11-765812cde82d>\u001b[0m in \u001b[0;36mreset\u001b[1;34m(self)\u001b[0m\n\u001b[0;32m     39\u001b[0m         \u001b[0mself\u001b[0m\u001b[1;33m.\u001b[0m\u001b[0mboardcard\u001b[0m\u001b[1;33m=\u001b[0m\u001b[0mutils\u001b[0m\u001b[1;33m.\u001b[0m\u001b[0mchoose_and_remove\u001b[0m\u001b[1;33m(\u001b[0m\u001b[0mself\u001b[0m\u001b[1;33m.\u001b[0m\u001b[0mdeck\u001b[0m\u001b[1;33m)\u001b[0m\u001b[1;33m\u001b[0m\u001b[1;33m\u001b[0m\u001b[0m\n\u001b[0;32m     40\u001b[0m         \u001b[0mself\u001b[0m\u001b[1;33m.\u001b[0m\u001b[0mresult\u001b[0m\u001b[1;33m=\u001b[0m\u001b[0mself\u001b[0m\u001b[1;33m.\u001b[0m\u001b[0mget_result\u001b[0m\u001b[1;33m(\u001b[0m\u001b[1;33m)\u001b[0m\u001b[1;33m\u001b[0m\u001b[1;33m\u001b[0m\u001b[0m\n\u001b[1;32m---> 41\u001b[1;33m         \u001b[0mself\u001b[0m\u001b[1;33m.\u001b[0m\u001b[0mplayer1\u001b[0m\u001b[1;33m=\u001b[0m\u001b[0mplayer1\u001b[0m\u001b[1;33m\u001b[0m\u001b[1;33m\u001b[0m\u001b[0m\n\u001b[0m\u001b[0;32m     42\u001b[0m         \u001b[0mself\u001b[0m\u001b[1;33m.\u001b[0m\u001b[0mplayer2\u001b[0m\u001b[1;33m=\u001b[0m\u001b[0mplayer2\u001b[0m\u001b[1;33m\u001b[0m\u001b[1;33m\u001b[0m\u001b[0m\n\u001b[0;32m     43\u001b[0m \u001b[1;33m\u001b[0m\u001b[0m\n",
      "\u001b[1;31mNameError\u001b[0m: name 'player1' is not defined"
     ]
    }
   ],
   "source": [
    "epochs_number=1000\n",
    "evaluate_every=100\n",
    "evaluation=[]\n",
    "agent=QAgent()\n",
    "rand_agent=RandAgent()\n",
    "game=LeducGame(agent, rand_agent)\n",
    "\n",
    "for i in range(0, epochs_number):\n",
    "\n",
    "    if(i % evaluate_every == 0):\n",
    "        eval_game=LeducGame(agent, rand_agent)\n",
    "        game.run_evaluation(eval_game,10000)\n",
    " \n",
    "    game.player1.set_state(game.get_player1state())\n",
    "    action = game.player1.get_action() # Explore action space\n",
    "    game.player1.update(action, game.play(action))\n",
    "\n",
    "print(agent.qtable)"
   ]
  },
  {
   "cell_type": "markdown",
   "metadata": {},
   "source": [
    "# Testing LeducGame"
   ]
  },
  {
   "cell_type": "code",
   "execution_count": 5,
   "metadata": {},
   "outputs": [
    {
     "name": "stdout",
     "output_type": "stream",
     "text": [
      "Player1 = 0 \n",
      "Player2 = 1 \n",
      "Board = 0 \n",
      "Deck = [1, 2, 2]\n",
      "Result = 1\n"
     ]
    }
   ],
   "source": [
    "game=LeducGame()\n",
    "print(game)"
   ]
  },
  {
   "cell_type": "markdown",
   "metadata": {},
   "source": [
    "# LeducEnv class definition"
   ]
  },
  {
   "cell_type": "code",
   "execution_count": null,
   "metadata": {},
   "outputs": [],
   "source": [
    "class LeducEnv:\n",
    "    player1=None\n",
    "    player2=None\n",
    "    game=None\n",
    "    firstplayer=None\n",
    "    \n",
    "    #inititate a env\n",
    "    def __init__(self, player1, player2, game):\n",
    "        self.player1 =player1\n",
    "        self.player2 =player2\n",
    "        self.game =game\n",
    "        self.firstplayer=random.randrange(0,2)\n",
    "        \n",
    "    def run(eval_game,epoch, player2evaluate):\n",
    "        if(self.firstplayer==0):\n",
    "                if()\n",
    "                self.player1.\n",
    "        elif(self.firstplayer==1):\n",
    "                r=-1"
   ]
  },
  {
   "cell_type": "markdown",
   "metadata": {},
   "source": [
    "# Creating the QTable"
   ]
  },
  {
   "cell_type": "markdown",
   "metadata": {},
   "source": [
    "<img src=\"qtable.png\" />."
   ]
  },
  {
   "cell_type": "code",
   "execution_count": 6,
   "metadata": {},
   "outputs": [
    {
     "name": "stdout",
     "output_type": "stream",
     "text": [
      "[[0. 0.]\n",
      " [0. 0.]\n",
      " [0. 0.]\n",
      " [0. 0.]\n",
      " [0. 0.]\n",
      " [0. 0.]]\n"
     ]
    }
   ],
   "source": [
    "state_number=6\n",
    "qtable=np.zeros((state_number,2))\n",
    "print(qtable)"
   ]
  },
  {
   "cell_type": "markdown",
   "metadata": {},
   "source": [
    "# Learning alg"
   ]
  },
  {
   "cell_type": "code",
   "execution_count": 7,
   "metadata": {
    "scrolled": true
   },
   "outputs": [
    {
     "name": "stdout",
     "output_type": "stream",
     "text": [
      "[[ 0.          0.        ]\n",
      " [ 0.          0.        ]\n",
      " [ 0.          0.        ]\n",
      " [ 0.30209617 -0.32621749]\n",
      " [ 0.26650125 -0.11500001]\n",
      " [-0.40059518  0.13437044]]\n"
     ]
    }
   ],
   "source": [
    "epochs_number=1000\n",
    "evaluate_every=100\n",
    "evaluation=[]\n",
    "agent=QAgent(game)\n",
    "\n",
    "for i in range(0, epochs_number):\n",
    "\n",
    "    if(i % evaluate_every == 0):\n",
    "        eval_game=LeducGame()\n",
    "        agent.evaluate(eval_game,10000)\n",
    " \n",
    "    agent.set_state()\n",
    "    action = agent.get_action() # Explore action space\n",
    "    agent.update(action)\n",
    "\n",
    "print(agent.qtable)"
   ]
  },
  {
   "cell_type": "markdown",
   "metadata": {},
   "source": [
    "# Plotting results"
   ]
  },
  {
   "cell_type": "code",
   "execution_count": 8,
   "metadata": {},
   "outputs": [
    {
     "data": {
      "text/plain": [
       "[<matplotlib.lines.Line2D at 0x29a90decf98>]"
      ]
     },
     "execution_count": 8,
     "metadata": {},
     "output_type": "execute_result"
    },
    {
     "data": {
      "image/png": "[encoded data removed]",
      "text/plain": [
       "<Figure size 432x288 with 1 Axes>"
      ]
     },
     "metadata": {
      "needs_background": "light"
     },
     "output_type": "display_data"
    }
   ],
   "source": [
    "plt.plot(agent.perf)"
   ]
  },
  {
   "cell_type": "markdown",
   "metadata": {},
   "source": [
    "# Rand alg"
   ]
  },
  {
   "cell_type": "code",
   "execution_count": 9,
   "metadata": {},
   "outputs": [],
   "source": [
    "epochs_number=1000\n",
    "evaluate_every=100\n",
    "\n",
    "# Learning algte_every=1\n",
    "evaluation=[]\n",
    "agent=RandAgent(game)\n",
    "\n",
    "for i in range(0, epochs_number):\n",
    "\n",
    "    if(i % evaluate_every == 0):\n",
    "        eval_game=LeducGame()\n",
    "        agent.evaluate(eval_game,10000)\n",
    " \n",
    "    agent.set_state()\n",
    "    action = agent.get_action() # Explore action space"
   ]
  },
  {
   "cell_type": "markdown",
   "metadata": {},
   "source": [
    "# Plotting results"
   ]
  },
  {
   "cell_type": "code",
   "execution_count": 10,
   "metadata": {
    "scrolled": true
   },
   "outputs": [
    {
     "data": {
      "text/plain": [
       "[<matplotlib.lines.Line2D at 0x29a93010f28>]"
      ]
     },
     "execution_count": 10,
     "metadata": {},
     "output_type": "execute_result"
    },
    {
     "data": {
      "image/png": "[encoded data removed]",
      "text/plain": [
       "<Figure size 432x288 with 1 Axes>"
      ]
     },
     "metadata": {
      "needs_background": "light"
     },
     "output_type": "display_data"
    }
   ],
   "source": [
    "plt.plot(agent.perf)"
   ]
  },
  {
   "cell_type": "code",
   "execution_count": 14,
   "metadata": {},
   "outputs": [
    {
     "ename": "NameError",
     "evalue": "name 'resource' is not defined",
     "output_type": "error",
     "traceback": [
      "\u001b[1;31m---------------------------------------------------------------------------\u001b[0m",
      "\u001b[1;31mNameError\u001b[0m                                 Traceback (most recent call last)",
      "\u001b[1;32m<ipython-input-14-02c6a988e52f>\u001b[0m in \u001b[0;36m<module>\u001b[1;34m\u001b[0m\n\u001b[1;32m----> 1\u001b[1;33m \u001b[1;32mclass\u001b[0m \u001b[0mtemp\u001b[0m\u001b[1;33m(\u001b[0m\u001b[0mresource\u001b[0m\u001b[1;33m)\u001b[0m\u001b[1;33m:\u001b[0m\u001b[1;33m\u001b[0m\u001b[1;33m\u001b[0m\u001b[0m\n\u001b[0m\u001b[0;32m      2\u001b[0m     \u001b[1;32mdef\u001b[0m \u001b[0m__init__\u001b[0m\u001b[1;33m(\u001b[0m\u001b[0mself\u001b[0m\u001b[1;33m,\u001b[0m \u001b[0mname\u001b[0m\u001b[1;33m=\u001b[0m\u001b[1;34m\"temp\"\u001b[0m\u001b[1;33m,\u001b[0m \u001b[0mcoap_server\u001b[0m\u001b[1;33m=\u001b[0m\u001b[1;32mNone\u001b[0m\u001b[1;33m)\u001b[0m\u001b[1;33m:\u001b[0m\u001b[1;33m\u001b[0m\u001b[1;33m\u001b[0m\u001b[0m\n\u001b[0;32m      3\u001b[0m         super(temp, self).__init__(name, coap_server, visible=True,\n\u001b[0;32m      4\u001b[0m                                             observable=True, allow_children=True)\n\u001b[0;32m      5\u001b[0m     \u001b[0mrandom\u001b[0m\u001b[1;33m.\u001b[0m\u001b[0mseed\u001b[0m\u001b[1;33m(\u001b[0m\u001b[1;32mNone\u001b[0m\u001b[1;33m)\u001b[0m\u001b[1;33m\u001b[0m\u001b[1;33m\u001b[0m\u001b[0m\n",
      "\u001b[1;31mNameError\u001b[0m: name 'resource' is not defined"
     ]
    }
   ],
   "source": [
    "class temp(resource):\n",
    "    def __init__(self, name=\"temp\", coap_server=None):\n",
    "        super(temp, self).__init__(name, coap_server, visible=True,\n",
    "                                            observable=True, allow_children=True)\n",
    "    random.seed(None)\n",
    "    self.value = random.randint(20,30)\n",
    "    self.payload = (defines.Content_types[\"application/xml\"], \"<value>\"+str(self.value)+\"</value>\")\n",
    "\n",
    "    def render_GET(self, request):\n",
    "        return self"
   ]
  },
  {
   "cell_type": "code",
   "execution_count": null,
   "metadata": {},
   "outputs": [],
   "source": []
  }
 ],
 "metadata": {
  "kernelspec": {
   "display_name": "Python 3",
   "language": "python",
   "name": "python3"
  },
  "language_info": {
   "codemirror_mode": {
    "name": "ipython",
    "version": 3
   },
   "file_extension": ".py",
   "mimetype": "text/x-python",
   "name": "python",
   "nbconvert_exporter": "python",
   "pygments_lexer": "ipython3",
   "version": "3.7.3"
  }
 },
 "nbformat": 4,
 "nbformat_minor": 2
}
