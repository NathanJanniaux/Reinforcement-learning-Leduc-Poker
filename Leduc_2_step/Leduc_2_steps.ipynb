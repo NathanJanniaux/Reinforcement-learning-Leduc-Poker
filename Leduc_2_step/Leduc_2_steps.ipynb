{
 "cells": [
  {
   "cell_type": "code",
   "execution_count": 1,
   "metadata": {
    "scrolled": true
   },
   "outputs": [],
   "source": [
    "import random\n",
    "import utils\n",
    "import numpy as np\n",
    "import matplotlib.pyplot as plt\n",
    "from Game.LeducGame import *\n",
    "from Environment.Environment import *\n",
    "from Opponent_agent.RandAgent import *\n",
    "from Opponent_agent.GreedyAgent import *\n",
    "from Opponent_agent.HumanAgent import *\n",
    "from Qagent.QAgent import *\n",
    "\n",
    "stack_size=10\n",
    "random_agent_qtable=None\n",
    "greedy_agent_qtable=None"
   ]
  },
  {
   "cell_type": "markdown",
   "metadata": {},
   "source": [
    "# Training and Testing parameters"
   ]
  },
  {
   "cell_type": "code",
   "execution_count": 2,
   "metadata": {},
   "outputs": [],
   "source": [
    "epochs_number=100000\n",
    "evaluate_every=5000\n",
    "test_number=10000"
   ]
  },
  {
   "cell_type": "markdown",
   "metadata": {},
   "source": [
    "## qAgent vs RandAgent"
   ]
  },
  {
   "cell_type": "code",
   "execution_count": 4,
   "metadata": {},
   "outputs": [
    {
     "name": "stdout",
     "output_type": "stream",
     "text": [
      "[[-1.     8.223 -1.031]\n",
      " [-1.     6.379  2.415]\n",
      " [-1.     6.025  2.857]\n",
      " [-1.     7.545 -3.853]\n",
      " [-1.     8.24   0.532]\n",
      " [-1.     5.846  3.237]\n",
      " [-1.     0.    -4.439]\n",
      " [-1.     0.     0.803]\n",
      " [-1.     0.     3.997]\n",
      " [-1.     3.139  4.032]\n",
      " [-1.     3.16  -0.874]\n",
      " [-1.     2.003 -3.526]\n",
      " [-1.     3.218 -1.576]\n",
      " [-1.     4.298  5.387]\n",
      " [-1.     3.383  2.116]\n",
      " [-1.     4.394  0.898]\n",
      " [-1.     2.589  0.489]\n",
      " [-1.     3.888  4.518]\n",
      " [-0.989  0.987  8.083]\n",
      " [-1.    -0.659 -3.991]\n",
      " [-0.999 -0.84  -1.968]\n",
      " [-1.    -0.661 -3.264]\n",
      " [-0.975  0.977  6.665]\n",
      " [-1.     0.455  1.325]\n",
      " [-1.     0.34   2.822]\n",
      " [-1.     0.221  1.347]\n",
      " [-0.991  0.975  4.706]\n",
      " [-0.999  0.     9.996]\n",
      " [-1.     0.    -8.502]\n",
      " [-1.     0.    -7.304]\n",
      " [-1.     0.    -7.428]\n",
      " [-1.     0.     9.996]\n",
      " [-1.     0.     5.616]\n",
      " [-1.     0.     3.462]\n",
      " [-1.     0.     0.583]\n",
      " [-0.999  0.     9.997]]\n"
     ]
    }
   ],
   "source": [
    "randAgent=RandAgent()\n",
    "env=Environment(randAgent)\n",
    "envTest=Environment(randAgent)\n",
    "qagent=QAgent()\n",
    "\n",
    "\n",
    "for i in range(epochs_number):\n",
    "\n",
    "    #TEST\n",
    "    if(i % evaluate_every == 0):\n",
    "        perf=0\n",
    "        for j in range(test_number):\n",
    "            envTest.reset()\n",
    "            current_player=envTest.game.get_firstplayer()\n",
    "            allowed_actions=[0,1,2]\n",
    "            if(current_player==1):\n",
    "                envTest.agent.set_action(allowed_actions,None,envTest.game.get_game_round(), envTest.game.get_hand_player2(),envTest.game.get_boardcard())\n",
    "                envTest.set_opponent_action(envTest.agent.get_action())\n",
    "                reward,current_player,allowed_actions=envTest.game.step_prime(envTest.agent.get_action())\n",
    "                \n",
    "\n",
    "            while(envTest.game.is_game_over()==0):\n",
    "                state=envTest.get_state()\n",
    "                qagent.set_state(state)\n",
    "                qagent_action=qagent.exploit_action(allowed_actions)\n",
    "                reward,allowed_actions, new_state=envTest.step(qagent_action)\n",
    "\n",
    "            if(envTest.game.is_game_over()==1):\n",
    "                perf=perf+reward\n",
    "        qagent.set_perf(float(perf)/test_number)    \n",
    "    \n",
    "    #TRAIN\n",
    "    current_player=env.game.get_firstplayer()\n",
    "    allowed_actions=[0,1,2]\n",
    "    if(current_player==1):\n",
    "        env.agent.set_action(allowed_actions,0,0,0,0)\n",
    "        env.set_opponent_action(env.agent.get_action())\n",
    "        reward,current_player,allowed_actions=env.game.step_prime(env.agent.get_action())\n",
    "\n",
    "    while(env.game.is_game_over()==0):\n",
    "        state=env.get_state()\n",
    "        qagent.set_state(state)\n",
    "        qagent_action=qagent.explore_action(allowed_actions)\n",
    "        reward,allowed_actions, new_state=env.step(qagent_action)\n",
    "\n",
    "        if(env.game.is_game_over()==1):\n",
    "            qagent.update(reward, env.get_actions_hist())\n",
    "    \n",
    "    env.reset()\n",
    "    state=env.get_state()\n",
    "    qagent.set_state(state)\n",
    "\n",
    "with np.printoptions(precision=3, suppress=True):\n",
    "    print(qagent.qtable)\n",
    "random_agent_qtable=qagent.qtable"
   ]
  },
  {
   "cell_type": "code",
   "execution_count": 5,
   "metadata": {},
   "outputs": [
    {
     "data": {
      "text/plain": [
       "[<matplotlib.lines.Line2D at 0x1b89e623908>]"
      ]
     },
     "execution_count": 5,
     "metadata": {},
     "output_type": "execute_result"
    },
    {
     "data": {
      "image/png": "[encoded data removed]",
      "text/plain": [
       "<Figure size 432x288 with 1 Axes>"
      ]
     },
     "metadata": {
      "needs_background": "light"
     },
     "output_type": "display_data"
    }
   ],
   "source": [
    "plt.plot(qagent.perf)"
   ]
  },
  {
   "cell_type": "markdown",
   "metadata": {},
   "source": [
    "## qAgent vs GreedyAgent"
   ]
  },
  {
   "cell_type": "code",
   "execution_count": 7,
   "metadata": {},
   "outputs": [
    {
     "name": "stdout",
     "output_type": "stream",
     "text": [
      "[[ -1.      9.251  -3.204]\n",
      " [ -1.      8.59   -4.039]\n",
      " [ -1.      8.169   1.081]\n",
      " [ -1.      7.433  -0.119]\n",
      " [ -1.      9.047  -0.095]\n",
      " [ -1.      6.315   1.548]\n",
      " [ -1.      0.     -2.473]\n",
      " [ -1.      0.     -5.741]\n",
      " [ -1.      0.      4.04 ]\n",
      " [ -1.      3.701   1.38 ]\n",
      " [ -1.      4.426  -6.742]\n",
      " [ -1.      2.227  -0.529]\n",
      " [ -1.      4.423  -4.488]\n",
      " [ -1.      1.965   2.421]\n",
      " [ -1.      3.182  -1.078]\n",
      " [ -1.      3.543  -1.323]\n",
      " [ -1.      5.583  -1.83 ]\n",
      " [ -1.      1.      1.   ]\n",
      " [ -1.      1.      1.405]\n",
      " [ -1.     -0.695  -3.619]\n",
      " [ -1.     -0.788   1.   ]\n",
      " [ -1.     -0.568  -0.522]\n",
      " [ -1.      1.      2.534]\n",
      " [ -1.      0.368   1.   ]\n",
      " [ -1.      0.715   0.936]\n",
      " [ -1.      0.918  -1.815]\n",
      " [ -1.      1.      1.   ]\n",
      " [ -1.      0.     10.   ]\n",
      " [ -1.      0.    -10.   ]\n",
      " [ -1.      0.    -10.   ]\n",
      " [ -1.      0.     -9.025]\n",
      " [ -0.966   0.      9.477]\n",
      " [ -1.      0.     -8.565]\n",
      " [ -1.      0.     -3.236]\n",
      " [ -1.      0.     -7.721]\n",
      " [ -0.995   0.      9.985]]\n"
     ]
    }
   ],
   "source": [
    "greedy=GreedyAgent()\n",
    "env=Environment(greedy)\n",
    "envTest=Environment(greedy)\n",
    "qagent=QAgent()\n",
    "\n",
    "\n",
    "for i in range(epochs_number):\n",
    "\n",
    "    #TEST\n",
    "    if(i % evaluate_every == 0):\n",
    "        perf=0\n",
    "        for j in range(test_number):\n",
    "            envTest.reset()\n",
    "            current_player=envTest.game.get_firstplayer()\n",
    "            allowed_actions=[0,1,2]\n",
    "            if(current_player==1):\n",
    "                envTest.agent.set_action(allowed_actions,None,envTest.game.get_game_round(), envTest.game.get_hand_player2(),envTest.game.get_boardcard())\n",
    "                envTest.set_opponent_action(envTest.agent.get_action())\n",
    "                reward,current_player,allowed_actions=envTest.game.step_prime(envTest.agent.get_action())\n",
    "\n",
    "            while(envTest.game.is_game_over()==0):\n",
    "                state=envTest.get_state()\n",
    "                qagent.set_state(state)\n",
    "                qagent_action=qagent.exploit_action(allowed_actions)\n",
    "                reward,allowed_actions, new_state=envTest.step(qagent_action)\n",
    "\n",
    "            if(envTest.game.is_game_over()==1):\n",
    "                perf=perf+reward\n",
    "        qagent.set_perf(float(perf)/test_number)    \n",
    "    \n",
    "    #TRAIN\n",
    "    current_player=env.game.get_firstplayer()\n",
    "    allowed_actions=[0,1,2]\n",
    "    if(current_player==1):\n",
    "        env.agent.set_action(allowed_actions,None,env.game.get_game_round(), env.game.get_hand_player2(),env.game.get_boardcard())\n",
    "        env.set_opponent_action(env.agent.get_action())\n",
    "        reward,current_player,allowed_actions=env.game.step_prime(env.agent.get_action())\n",
    "\n",
    "    while(env.game.is_game_over()==0):\n",
    "        state=env.get_state()\n",
    "        qagent.set_state(state)\n",
    "        qagent_action=qagent.explore_action(allowed_actions)\n",
    "        reward,allowed_actions, new_state=env.step(qagent_action)\n",
    "\n",
    "        if(env.game.is_game_over()==1):\n",
    "            qagent.update(reward, env.get_actions_hist())\n",
    "    \n",
    "    env.reset()\n",
    "    state=env.get_state()\n",
    "    qagent.set_state(state)\n",
    "\n",
    "with np.printoptions(precision=3, suppress=True):\n",
    "    print(qagent.qtable)\n",
    "random_agent_qtable=qagent.qtable"
   ]
  },
  {
   "cell_type": "code",
   "execution_count": 8,
   "metadata": {},
   "outputs": [
    {
     "data": {
      "text/plain": [
       "[<matplotlib.lines.Line2D at 0x1b89e6e15f8>]"
      ]
     },
     "execution_count": 8,
     "metadata": {},
     "output_type": "execute_result"
    },
    {
     "data": {
      "image/png": "[encoded data removed]",
      "text/plain": [
       "<Figure size 432x288 with 1 Axes>"
      ]
     },
     "metadata": {
      "needs_background": "light"
     },
     "output_type": "display_data"
    }
   ],
   "source": [
    "plt.plot(qagent.perf)"
   ]
  },
  {
   "cell_type": "markdown",
   "metadata": {},
   "source": [
    "## qAgent (trained with a random agent) vs HumanAgent"
   ]
  },
  {
   "cell_type": "code",
   "execution_count": 9,
   "metadata": {
    "scrolled": true
   },
   "outputs": [
    {
     "name": "stdout",
     "output_type": "stream",
     "text": [
      "How to play?\n",
      "\n",
      "For the actions:\n",
      "\t- 0 : Fold\n",
      "\t- 1 : Check\n",
      "\t- 2 : Push\n",
      "\n",
      "For the cards:\n",
      "\t- 0 : Jack\n",
      "\t- 1 : Queen\n",
      "\t- 2 : King\n",
      "\n",
      " \n",
      "Your card = 0 \n",
      "Action of the QAgent =  1 \n",
      "\n",
      "\n",
      "Please enter an action :(0,1 or 2)\n",
      "1\n",
      "\n",
      "\n",
      "\n",
      "Your card = 0 \n",
      "Action of the QAgent =  1 \n",
      "Boardcard =  2  \n",
      "\n",
      "\n",
      "Please enter an action :(0,1 or 2)\n",
      "1\n",
      "\n",
      "\n",
      "\n",
      "His action was:  1 \n",
      "He has a:  0 \n",
      "It's a draw !!!\n",
      "\n",
      "\n"
     ]
    }
   ],
   "source": [
    "humanAgent=HumanAgent()\n",
    "env=Environment(humanAgent)\n",
    "qagent=QAgent()\n",
    "qagent.set_qtable(random_agent_qtable)\n",
    "\n",
    "print(\"How to play?\\n\\nFor the actions:\\n\\t- 0 : Fold\\n\\t- 1 : Check\\n\\t- 2 : Push\\n\\nFor the cards:\\n\\t- 0 : Jack\\n\\t- 1 : Queen\\n\\t- 2 : King\\n\\n \")\n",
    "for i in range(1):\n",
    "    allowed_actions=[0,1,2]\n",
    "    current_player=env.game.get_firstplayer()\n",
    "    while(env.game.is_game_over()==0):\n",
    "        state=env.get_state()\n",
    "        qagent.set_state(state)\n",
    "        \n",
    "        if (current_player==1):\n",
    "            env.agent.set_action(allowed_actions,None, env.game.get_game_round(), env.game.get_hand_player2(),env.game.get_boardcard())\n",
    "            env.set_opponent_action(env.agent.get_action())\n",
    "            reward,current_player,allowed_actions=env.game.step_prime(env.agent.get_action())\n",
    "            if(env.game.is_game_over()==1):\n",
    "                print(\"You loose!! He has a:\", env.game.get_hand_player1(), \"\\n\\n\")\n",
    "        if(env.game.is_game_over()==0):\n",
    "            state=env.get_state()\n",
    "            qagent.set_state(state)\n",
    "            qagent_action=qagent.exploit_action(allowed_actions)\n",
    "            reward,allowed_actions, new_state=env.step(qagent_action)\n",
    "            if(env.game.is_game_over()==1):\n",
    "                if(reward<0):\n",
    "                    print(\"His action was: \", qagent_action, \"\\nHe has a: \",env.game.get_hand_player1(), \"\\nCongratulation, you win !!!\\n\\n\" )\n",
    "                elif(reward>0):\n",
    "                    print(\"His action was: \", qagent_action, \"\\nHe has a: \",env.game.get_hand_player1(), \"\\nSorry, you loose !!!\\n\\n\" )\n",
    "                elif(reward==0):\n",
    "                    print(\"His action was: \", qagent_action, \"\\nHe has a: \",env.game.get_hand_player1(), \"\\nIt's a draw !!!\\n\\n\" )\n",
    "                qagent.update(reward, env.get_actions_hist())\n",
    "            qagent.set_state(new_state)\n",
    "\n",
    "    \n",
    "    env.reset()\n",
    "    "
   ]
  },
  {
   "cell_type": "markdown",
   "metadata": {},
   "source": [
    "## qAgent (trained with a greedy agent) vs HumanAgent"
   ]
  },
  {
   "cell_type": "code",
   "execution_count": 10,
   "metadata": {
    "scrolled": true
   },
   "outputs": [
    {
     "name": "stdout",
     "output_type": "stream",
     "text": [
      "How to play?\n",
      "\n",
      "For the actions:\n",
      "\t- 0 : Fold\n",
      "\t- 1 : Check\n",
      "\t- 2 : Push\n",
      "\n",
      "For the cards:\n",
      "\t- 0 : Jack\n",
      "\t- 1 : Queen\n",
      "\t- 2 : King\n",
      "\n",
      " \n",
      "Your card =  2 \n",
      "\n",
      "\n",
      "Please enter an action :(0,1 or 2)\n",
      "1\n",
      "\n",
      "\n",
      "\n",
      "Your card = 2 \n",
      "Boardcard =  0 \n",
      "\n",
      "\n",
      "Please enter an action :(0,1 or 2)\n",
      "1\n",
      "\n",
      "\n",
      "\n",
      "His action was:  1 \n",
      "He has a:  1 \n",
      "Congratulation, you win !!!\n",
      "\n",
      "\n"
     ]
    }
   ],
   "source": [
    "humanAgent=HumanAgent()\n",
    "env=Environment(humanAgent)\n",
    "qagent=QAgent()\n",
    "qagent.set_qtable(greedy_agent_qtable)\n",
    "\n",
    "    \n",
    "print(\"How to play?\\n\\nFor the actions:\\n\\t- 0 : Fold\\n\\t- 1 : Check\\n\\t- 2 : Push\\n\\nFor the cards:\\n\\t- 0 : Jack\\n\\t- 1 : Queen\\n\\t- 2 : King\\n\\n \")\n",
    "for i in range(1):\n",
    "    allowed_actions=[0,1,2]\n",
    "    current_player=env.game.get_firstplayer()\n",
    "    while(env.game.is_game_over()==0):\n",
    "        state=env.get_state()\n",
    "        qagent.set_state(state)\n",
    "        \n",
    "        if (current_player==1):\n",
    "            env.agent.set_action(allowed_actions,None, env.game.get_game_round(), env.game.get_hand_player2(),env.game.get_boardcard())\n",
    "            env.set_opponent_action(env.agent.get_action())\n",
    "            reward,current_player,allowed_actions=env.game.step_prime(env.agent.get_action())\n",
    "            if(env.game.is_game_over()==1):\n",
    "                print(\"You loose!! He has a:\", env.game.get_hand_player1(), \"\\n\\n\")\n",
    "        if(env.game.is_game_over()==0):\n",
    "            state=env.get_state()\n",
    "            qagent.set_state(state)\n",
    "            qagent_action=qagent.exploit_action(allowed_actions)\n",
    "            reward,allowed_actions, new_state=env.step(qagent_action)\n",
    "            if(env.game.is_game_over()==1):\n",
    "                if(reward<0):\n",
    "                    print(\"His action was: \", qagent_action, \"\\nHe has a: \",env.game.get_hand_player1(), \"\\nCongratulation, you win !!!\\n\\n\" )\n",
    "                elif(reward>0):\n",
    "                    print(\"His action was: \", qagent_action, \"\\nHe has a: \",env.game.get_hand_player1(), \"\\nSorry, you loose !!!\\n\\n\" )\n",
    "                elif(reward==0):\n",
    "                    print(\"His action was: \", qagent_action, \"\\nHe has a: \",env.game.get_hand_player1(), \"\\nIt's a draw !!!\\n\\n\" )\n",
    "                qagent.update(reward, env.get_actions_hist())\n",
    "            qagent.set_state(new_state)\n",
    "\n",
    "    \n",
    "    env.reset()\n",
    "    "
   ]
  },
  {
   "cell_type": "code",
   "execution_count": 4,
   "metadata": {},
   "outputs": [
    {
     "name": "stdout",
     "output_type": "stream",
     "text": [
      "FirstPlayer = 0 \n",
      "Hand1 = 1 \n",
      "Hand2 = 2 \n",
      "Board = 0 \n",
      "Deck = [0, 1, 2]\n",
      "Result = -1\n",
      "Stack1=9\n",
      "Stack2=9\n",
      "Pot=2\n",
      "Step=0\n",
      "Round=0\n",
      "GameIsOver=0\n",
      "Current_player0\n",
      "\n",
      "\n",
      "FirstPlayer = 0 \n",
      "Hand1 = 1 \n",
      "Hand2 = 2 \n",
      "Board = 0 \n",
      "Deck = [0, 1, 2]\n",
      "Result = -1\n",
      "Stack1=9\n",
      "Stack2=9\n",
      "Pot=2\n",
      "Step=1\n",
      "Round=0\n",
      "GameIsOver=0\n",
      "Current_player1\n",
      "\n",
      "\n",
      "FirstPlayer = 0 \n",
      "Hand1 = 1 \n",
      "Hand2 = 2 \n",
      "Board = 0 \n",
      "Deck = [0, 1, 2]\n",
      "Result = -1\n",
      "Stack1=9\n",
      "Stack2=9\n",
      "Pot=2\n",
      "Step=0\n",
      "Round=1\n",
      "GameIsOver=0\n",
      "Current_player0\n",
      "\n",
      "\n",
      "FirstPlayer = 0 \n",
      "Hand1 = 1 \n",
      "Hand2 = 2 \n",
      "Board = 0 \n",
      "Deck = [0, 1, 2]\n",
      "Result = -1\n",
      "Stack1=9\n",
      "Stack2=9\n",
      "Pot=2\n",
      "Step=1\n",
      "Round=1\n",
      "GameIsOver=0\n",
      "Current_player1\n",
      "\n",
      "\n",
      "FirstPlayer = 0 \n",
      "Hand1 = 1 \n",
      "Hand2 = 2 \n",
      "Board = 0 \n",
      "Deck = [0, 1, 2]\n",
      "Result = -1\n",
      "Stack1=9\n",
      "Stack2=0\n",
      "Pot=12\n",
      "Step=2\n",
      "Round=1\n",
      "GameIsOver=0\n",
      "Current_player0\n",
      "\n",
      "\n",
      "FirstPlayer = 0 \n",
      "Hand1 = 1 \n",
      "Hand2 = 2 \n",
      "Board = 0 \n",
      "Deck = [0, 1, 2]\n",
      "Result = -1\n",
      "Stack1=0\n",
      "Stack2=0\n",
      "Pot=20\n",
      "Step=2\n",
      "Round=1\n",
      "GameIsOver=1\n",
      "Current_player1\n",
      "\n",
      "\n"
     ]
    }
   ],
   "source": [
    "game = LeducGame()\n",
    "print(game)\n",
    "game.step_prime(1)\n",
    "print(game)\n",
    "game.step_prime(1)\n",
    "print(game)\n",
    "game.step_prime(1)\n",
    "print(game)\n",
    "game.step_prime(2)\n",
    "print(game)\n",
    "game.step_prime(2)\n",
    "print(game)"
   ]
  },
  {
   "cell_type": "code",
   "execution_count": null,
   "metadata": {},
   "outputs": [],
   "source": []
  }
 ],
 "metadata": {
  "kernelspec": {
   "display_name": "Python 3",
   "language": "python",
   "name": "python3"
  },
  "language_info": {
   "codemirror_mode": {
    "name": "ipython",
    "version": 3
   },
   "file_extension": ".py",
   "mimetype": "text/x-python",
   "name": "python",
   "nbconvert_exporter": "python",
   "pygments_lexer": "ipython3",
   "version": "3.7.3"
  }
 },
 "nbformat": 4,
 "nbformat_minor": 2
}
