{
 "cells": [
  {
   "cell_type": "code",
   "execution_count": null,
   "metadata": {},
   "outputs": [],
   "source": [
    "import random\n",
    "import utils\n",
    "import numpy as np\n",
    "\n",
    "stack_size=10"
   ]
  },
  {
   "cell_type": "markdown",
   "metadata": {},
   "source": [
    "## QAgent"
   ]
  },
  {
   "cell_type": "code",
   "execution_count": null,
   "metadata": {},
   "outputs": [],
   "source": [
    "class QAgent():\n",
    "    qtable=[]\n",
    " # Agent class definition   state=None\n",
    "    learning_rate=0.1\n",
    "    state=None #0-5\n",
    "    gamma=1\n",
    "    state_number=36\n",
    "    state=None \n",
    "    perf=[]\n",
    "    \n",
    "    def __init__(self):\n",
    "        #qtable creation\n",
    "        self.qtable=np.zeros((self.state_number,3))\n",
    "        self.perf=[]\n",
    "        \n",
    "    #allow to print leduc game state\n",
    "    def __str__(self):\n",
    "        return \"State = {} \\nQTable = {} \\nLearning rate = {}\".format(self.state,self.qtable,self.learning_rate)\n",
    "    \n",
    "\n",
    "        \n",
    "    \n",
    "    def explore_action(self, allowed_actions):\n",
    "        action=random.choice(allowed_actions)\n",
    "        return action\n",
    "    \n",
    "    def exploit_action(self, allowed_actions):\n",
    "        #print(\"allowed_actions\",allowed_actions)\n",
    "        #print(\"self.state\", self.state)\n",
    "        #print(\"self.qtable[self.state]\", self.qtable[self.state])\n",
    "      \n",
    "        action=utils.get_max_list(self.qtable[self.state], allowed_actions)\n",
    "        \n",
    "        return action\n",
    "      \n",
    "    def set_state(self, state):\n",
    "        self.state=state    \n",
    "        \n",
    "    def set_qtable(self,qtable):\n",
    "        self.qtable=qtable\n",
    "        \n",
    "    def set_perf(self,perf):\n",
    "        self.perf.append(perf)\n",
    "\n",
    "    def update(self,reward, actions_hist):\n",
    "        #print(\"UPDATE action= {} \\n reward = {} \\n next_state = {}\\n\".format(action,reward,next_state))\n",
    "        new_value = 0\n",
    "        \n",
    "        #print (\"Update: \\n\")\n",
    "        #print (\"reward = \", reward)\n",
    "        #print (\"actions_hist = \", actions_hist)\n",
    "        if(len(actions_hist)==1):\n",
    "            new_value = (1 - self.learning_rate) * self.qtable[actions_hist[0][0], actions_hist[0][1]] +  self.learning_rate * reward\n",
    "            self.qtable[actions_hist[0][0], actions_hist[0][1]] = new_value\n",
    "            #print(actions_hist)\n",
    "        if(len(actions_hist)==2):\n",
    "            new_value = (1 - self.learning_rate) * self.qtable[actions_hist[1][0], actions_hist[1][1]] +  self.learning_rate * reward\n",
    "            self.qtable[actions_hist[1][0], actions_hist[1][1]] = new_value\n",
    "\n",
    "            back = (1 - self.learning_rate) * self.qtable[actions_hist[0][0], actions_hist[0][1]] +  self.learning_rate * (0 + self.gamma*10)\n",
    "            self.qtable[actions_hist[0][0], actions_hist[0][1]] = back\n",
    "\n",
    "        if(len(actions_hist)==3):\n",
    "            new_value = (1 - self.learning_rate) * self.qtable[actions_hist[2][0], actions_hist[2][1]] +  self.learning_rate * reward\n",
    "            self.qtable[actions_hist[2][0], actions_hist[2][1]] = new_value\n",
    "\n",
    "            back = (1 - self.learning_rate) * self.qtable[actions_hist[1][0], actions_hist[1][1]] +  self.learning_rate * (0 + self.gamma*10)\n",
    "            self.qtable[actions_hist[1][0], actions_hist[1][1]] = back\n",
    "\n",
    "            back_prime = (1 - self.learning_rate) * self.qtable[actions_hist[0][0], actions_hist[0][1]] +  self.learning_rate * (0 + self.gamma*10)\n",
    "            self.qtable[actions_hist[0][0], actions_hist[0][1]] = back_prime"
   ]
  }
 ],
 "metadata": {
  "kernelspec": {
   "display_name": "Python 3",
   "language": "python",
   "name": "python3"
  },
  "language_info": {
   "codemirror_mode": {
    "name": "ipython",
    "version": 3
   },
   "file_extension": ".py",
   "mimetype": "text/x-python",
   "name": "python",
   "nbconvert_exporter": "python",
   "pygments_lexer": "ipython3",
   "version": "3.7.3"
  }
 },
 "nbformat": 4,
 "nbformat_minor": 2
}
