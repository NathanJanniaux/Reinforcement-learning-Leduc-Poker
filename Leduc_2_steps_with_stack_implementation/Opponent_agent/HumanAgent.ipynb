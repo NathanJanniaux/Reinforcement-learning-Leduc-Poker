{
 "cells": [
  {
   "cell_type": "markdown",
   "metadata": {},
   "source": [
    "## Human Agent"
   ]
  },
  {
   "cell_type": "code",
   "execution_count": null,
   "metadata": {},
   "outputs": [],
   "source": [
    "class HumanAgent():\n",
    "    \n",
    "    action=None\n",
    "        \n",
    "    def set_action(self,allowed_actions,qagent_action, game_round, hand, boardcard):            \n",
    "        if (game_round==0):\n",
    "            if (qagent_action==None):\n",
    "                print(\"Your card = \",hand,\"\\n\\n\")\n",
    "            else:\n",
    "                print(\"Your card =\", hand ,\"\\nAction of the QAgent = \",qagent_action,\"\\n\\n\")\n",
    "        elif (game_round==1):\n",
    "            if (qagent_action==None):\n",
    "                print(\"Your card =\", hand ,\"\\nBoardcard = \",boardcard ,\"\\n\\n\")\n",
    "            else:\n",
    "                print(\"Your card =\", hand, \"\\nAction of the QAgent = \",qagent_action,\"\\nBoardcard = \", boardcard,\" \\n\\n\")\n",
    "        self.action = int(input(\"Please enter an action :(0,1 or 2)\\n\"))\n",
    "        \n",
    "        print(\"\\n\\n\")\n",
    "        \n",
    "        \n",
    "    def get_action(self):\n",
    "        return self.action"
   ]
  }
 ],
 "metadata": {
  "kernelspec": {
   "display_name": "Python 3",
   "language": "python",
   "name": "python3"
  },
  "language_info": {
   "codemirror_mode": {
    "name": "ipython",
    "version": 3
   },
   "file_extension": ".py",
   "mimetype": "text/x-python",
   "name": "python",
   "nbconvert_exporter": "python",
   "pygments_lexer": "ipython3",
   "version": "3.7.3"
  }
 },
 "nbformat": 4,
 "nbformat_minor": 2
}
