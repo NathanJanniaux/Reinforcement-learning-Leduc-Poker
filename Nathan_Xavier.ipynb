{
 "cells": [
  {
   "cell_type": "code",
   "execution_count": 1,
   "metadata": {},
   "outputs": [],
   "source": [
    "import treys\n",
    "#from treys_test import *\n",
    "#import sys\n",
    "#sys.path.insert(0, './treys_test')\n",
    "#import treys\n",
    "#import card as treys\n",
    "#import evaluator as treys\n",
    "#import deck as treys\n",
    "#import lookup as treys\n",
    "from itertools import product\n",
    "\n",
    "import matplotlib.pyplot as plt\n",
    "\n",
    "import numpy as np\n",
    "from random import sample \n",
    "import random "
   ]
  },
  {
   "cell_type": "code",
   "execution_count": 60,
   "metadata": {},
   "outputs": [],
   "source": [
    "actions=[\"push\",\"fold\"]\n",
    "suits = [\"s\", \"h\", \"c\", \"d\"]\n",
    "ranks = [\"2\", \"3\", \"4\", \"5\", \"6\", \"7\", \"8\", \"9\", \"T\", \"J\", \"Q\", \"K\", \"A\"]\n",
    "rank_permutations=list(product(ranks, repeat=2))"
   ]
  },
  {
   "cell_type": "markdown",
   "metadata": {},
   "source": [
    "# treys test"
   ]
  },
  {
   "cell_type": "code",
   "execution_count": 6,
   "metadata": {},
   "outputs": [],
   "source": [
    "deck = treys.Deck()\n",
    "board = deck.draw(5)\n",
    "player1_hand = deck.draw(2)\n",
    "player2_hand = deck.draw(2)"
   ]
  },
  {
   "cell_type": "code",
   "execution_count": null,
   "metadata": {},
   "outputs": [],
   "source": [
    "deck = treys.Deck()"
   ]
  },
  {
   "cell_type": "code",
   "execution_count": 8,
   "metadata": {},
   "outputs": [
    {
     "data": {
      "text/plain": [
       "' [J♦],[2♦],[4♣],[5♥],[T♣] '"
      ]
     },
     "execution_count": 8,
     "metadata": {},
     "output_type": "execute_result"
    }
   ],
   "source": [
    "treys.Card.print_pretty_cards(board)"
   ]
  },
  {
   "cell_type": "code",
   "execution_count": 9,
   "metadata": {},
   "outputs": [
    {
     "data": {
      "text/plain": [
       "' [K♠],[Q♣] '"
      ]
     },
     "execution_count": 9,
     "metadata": {},
     "output_type": "execute_result"
    }
   ],
   "source": [
    "treys.Card.print_pretty_cards(player1_hand)\n"
   ]
  },
  {
   "cell_type": "code",
   "execution_count": 10,
   "metadata": {},
   "outputs": [
    {
     "data": {
      "text/plain": [
       "' [Q♦],[6♣] '"
      ]
     },
     "execution_count": 10,
     "metadata": {},
     "output_type": "execute_result"
    }
   ],
   "source": [
    "treys.Card.print_pretty_cards(player2_hand)\n"
   ]
  },
  {
   "cell_type": "code",
   "execution_count": 11,
   "metadata": {},
   "outputs": [
    {
     "name": "stdout",
     "output_type": "stream",
     "text": [
      "player 1 win\n"
     ]
    }
   ],
   "source": [
    "evaluator = treys.Evaluator()\n",
    "p1_score = evaluator.evaluate(board, player1_hand)\n",
    "p2_score = evaluator.evaluate(board, player2_hand)\n",
    "if(p1_score<p2_score):\n",
    "    print(\"player 1 win\")\n",
    "elif(p1_score>p2_score):\n",
    "    print(\"player 2 win\")\n",
    "else:\n",
    "    print(\"draw\")"
   ]
  },
  {
   "cell_type": "code",
   "execution_count": 12,
   "metadata": {},
   "outputs": [],
   "source": [
    "def simulate(board,player1_hand,player2_hand):\n",
    "    evaluator = treys.Evaluator()\n",
    "    p1_score = evaluator.evaluate(board, player1_hand)\n",
    "    p2_score = evaluator.evaluate(board, player2_hand)\n",
    "    if(p1_score<p2_score):\n",
    "        return True\n",
    "    elif(p1_score>p2_score):\n",
    "        return False\n",
    "    else:\n",
    "        return True"
   ]
  },
  {
   "cell_type": "markdown",
   "metadata": {},
   "source": [
    "# state2hand"
   ]
  },
  {
   "cell_type": "code",
   "execution_count": 61,
   "metadata": {},
   "outputs": [],
   "source": [
    "from itertools import permutations\n",
    "from itertools import combinations\n",
    "\n",
    "def state2hand(state):\n",
    "    rank_permutations[state][0]\n",
    "    suits_rand=sample(suits,2)\n",
    "    hand = [treys.Card.new(rank_permutations[state][0]+suits_rand[0]),treys.Card.new(rank_permutations[state][0]+suits_rand[1])]\n",
    "    return hand"
   ]
  },
  {
   "cell_type": "code",
   "execution_count": 64,
   "metadata": {},
   "outputs": [
    {
     "name": "stdout",
     "output_type": "stream",
     "text": [
      " [A♠],[A♣] \n",
      " [A♦],[A♠] \n",
      " [A♣],[A♥] \n",
      " [A♣],[A♠] \n",
      " [A♥],[A♣] \n",
      " [A♠],[A♦] \n",
      " [A♦],[A♠] \n",
      " [A♠],[A♥] \n",
      " [A♠],[A♦] \n",
      " [A♦],[A♥] \n"
     ]
    }
   ],
   "source": [
    "for i in range(10):\n",
    "    hand=state2hand(168)\n",
    "    print(treys.Card.print_pretty_cards(hand))"
   ]
  },
  {
   "cell_type": "code",
   "execution_count": 15,
   "metadata": {},
   "outputs": [],
   "source": [
    "def get_ranks():\n",
    "\n",
    "    ranks = [\"2\", \"3\", \"4\", \"5\", \"6\", \"7\", \"8\", \"9\", \"T\", \"J\", \"Q\", \"K\", \"A\"]\n",
    "    rank_permutations=product(ranks, repeat=2)\n",
    "    return(rank_permutations)"
   ]
  },
  {
   "cell_type": "code",
   "execution_count": 16,
   "metadata": {},
   "outputs": [
    {
     "name": "stdout",
     "output_type": "stream",
     "text": [
      "[('2', '2'), ('2', '3'), ('2', '4'), ('2', '5'), ('2', '6'), ('2', '7'), ('2', '8'), ('2', '9'), ('2', 'T'), ('2', 'J'), ('2', 'Q'), ('2', 'K'), ('2', 'A'), ('3', '2'), ('3', '3'), ('3', '4'), ('3', '5'), ('3', '6'), ('3', '7'), ('3', '8'), ('3', '9'), ('3', 'T'), ('3', 'J'), ('3', 'Q'), ('3', 'K'), ('3', 'A'), ('4', '2'), ('4', '3'), ('4', '4'), ('4', '5'), ('4', '6'), ('4', '7'), ('4', '8'), ('4', '9'), ('4', 'T'), ('4', 'J'), ('4', 'Q'), ('4', 'K'), ('4', 'A'), ('5', '2'), ('5', '3'), ('5', '4'), ('5', '5'), ('5', '6'), ('5', '7'), ('5', '8'), ('5', '9'), ('5', 'T'), ('5', 'J'), ('5', 'Q'), ('5', 'K'), ('5', 'A'), ('6', '2'), ('6', '3'), ('6', '4'), ('6', '5'), ('6', '6'), ('6', '7'), ('6', '8'), ('6', '9'), ('6', 'T'), ('6', 'J'), ('6', 'Q'), ('6', 'K'), ('6', 'A'), ('7', '2'), ('7', '3'), ('7', '4'), ('7', '5'), ('7', '6'), ('7', '7'), ('7', '8'), ('7', '9'), ('7', 'T'), ('7', 'J'), ('7', 'Q'), ('7', 'K'), ('7', 'A'), ('8', '2'), ('8', '3'), ('8', '4'), ('8', '5'), ('8', '6'), ('8', '7'), ('8', '8'), ('8', '9'), ('8', 'T'), ('8', 'J'), ('8', 'Q'), ('8', 'K'), ('8', 'A'), ('9', '2'), ('9', '3'), ('9', '4'), ('9', '5'), ('9', '6'), ('9', '7'), ('9', '8'), ('9', '9'), ('9', 'T'), ('9', 'J'), ('9', 'Q'), ('9', 'K'), ('9', 'A'), ('T', '2'), ('T', '3'), ('T', '4'), ('T', '5'), ('T', '6'), ('T', '7'), ('T', '8'), ('T', '9'), ('T', 'T'), ('T', 'J'), ('T', 'Q'), ('T', 'K'), ('T', 'A'), ('J', '2'), ('J', '3'), ('J', '4'), ('J', '5'), ('J', '6'), ('J', '7'), ('J', '8'), ('J', '9'), ('J', 'T'), ('J', 'J'), ('J', 'Q'), ('J', 'K'), ('J', 'A'), ('Q', '2'), ('Q', '3'), ('Q', '4'), ('Q', '5'), ('Q', '6'), ('Q', '7'), ('Q', '8'), ('Q', '9'), ('Q', 'T'), ('Q', 'J'), ('Q', 'Q'), ('Q', 'K'), ('Q', 'A'), ('K', '2'), ('K', '3'), ('K', '4'), ('K', '5'), ('K', '6'), ('K', '7'), ('K', '8'), ('K', '9'), ('K', 'T'), ('K', 'J'), ('K', 'Q'), ('K', 'K'), ('K', 'A'), ('A', '2'), ('A', '3'), ('A', '4'), ('A', '5'), ('A', '6'), ('A', '7'), ('A', '8'), ('A', '9'), ('A', 'T'), ('A', 'J'), ('A', 'Q'), ('A', 'K'), ('A', 'A')]\n"
     ]
    }
   ],
   "source": [
    "test=get_ranks()\n",
    "print(list(test))"
   ]
  },
  {
   "cell_type": "markdown",
   "metadata": {},
   "source": [
    "# algorithm"
   ]
  },
  {
   "cell_type": "raw",
   "metadata": {},
   "source": [
    "learning_rate=0.1\n",
    "for i in range(10000)\n",
    "for state in qtable #qtable(nombre de state?????)\n",
    "my_hand=state2hand(state) \n",
    "\n",
    "I_win=simulation(my_hand)\n",
    "#50/50\n",
    "if(push)\n",
    "if(I_win)\n",
    "\treward=1\n",
    "else\n",
    "\treward=-1\n",
    "else\n",
    "\tif(I_win)\n",
    "\treward=-1\n",
    "else\n",
    "\treward=1\n",
    "\tqtable[state]=(1-learning_rate)*state+learning_rate*r\n",
    "plot(reward)"
   ]
  },
  {
   "cell_type": "code",
   "execution_count": 65,
   "metadata": {},
   "outputs": [
    {
     "name": "stdout",
     "output_type": "stream",
     "text": [
      "169\n"
     ]
    }
   ],
   "source": [
    "#-------------------\n",
    "#mettre ton code ici\n",
    "learning_rate=0.1\n",
    "reward=0\n",
    "reward_stat=[]\n",
    "state_number=169\n",
    "\n",
    "qtable=np.zeros((state_number,2))\n",
    "qtable_rand=np.zeros((state_number,2))\n",
    "#-------------------"
   ]
  },
  {
   "cell_type": "code",
   "execution_count": 66,
   "metadata": {},
   "outputs": [
    {
     "name": "stdout",
     "output_type": "stream",
     "text": [
      "1\n",
      "2\n",
      "3\n",
      "4\n",
      "5\n",
      "6\n",
      "7\n",
      "8\n",
      "9\n",
      "10\n",
      "11\n",
      "12\n",
      "13\n",
      "14\n",
      "15\n",
      "16\n",
      "17\n",
      "18\n",
      "19\n",
      "20\n",
      "21\n",
      "22\n",
      "23\n",
      "24\n",
      "25\n",
      "26\n",
      "27\n",
      "28\n",
      "29\n",
      "30\n",
      "31\n",
      "32\n",
      "33\n",
      "34\n",
      "35\n",
      "36\n",
      "37\n",
      "38\n",
      "39\n",
      "40\n",
      "41\n",
      "42\n",
      "43\n",
      "44\n",
      "45\n",
      "46\n",
      "47\n",
      "48\n",
      "49\n",
      "50\n",
      "51\n",
      "52\n",
      "53\n",
      "54\n",
      "55\n",
      "56\n",
      "57\n",
      "58\n",
      "59\n",
      "60\n",
      "61\n",
      "62\n",
      "63\n",
      "64\n",
      "65\n",
      "66\n",
      "67\n",
      "68\n",
      "69\n",
      "70\n",
      "71\n",
      "72\n",
      "73\n",
      "74\n",
      "75\n",
      "76\n",
      "77\n",
      "78\n",
      "79\n",
      "80\n",
      "81\n",
      "82\n",
      "83\n",
      "84\n",
      "85\n",
      "86\n",
      "87\n",
      "88\n",
      "89\n",
      "90\n",
      "91\n",
      "92\n",
      "93\n",
      "94\n",
      "95\n",
      "96\n",
      "97\n",
      "98\n",
      "99\n",
      "100\n",
      "finish\n"
     ]
    }
   ],
   "source": [
    "for i in range(100):#epoch number\n",
    "    state_index=0\n",
    "    for state in qtable:\n",
    "        \n",
    "        #-------------------\n",
    "        #mettre ton code ici\n",
    "        player1_hand=state2hand(state_index) \n",
    "        #-------------------\n",
    "\n",
    "        #gen player2 and board cards\n",
    "        deck = treys.Deck()\n",
    "        deck.cards.remove(player1_hand[0])\n",
    "        deck.cards.remove(player1_hand[1])\n",
    "        board = deck.draw(5)\n",
    "        player2_hand = deck.draw(2)\n",
    "        \n",
    "        #check who wins\n",
    "        player1_win=simulate(board,player1_hand,player2_hand) #take long long long tiiiiiiiime\n",
    "        \n",
    "        #choose a random action\n",
    "        action=random.choice(actions)\n",
    "        \n",
    "        #rewarding system\n",
    "        if(action==\"push\"):\n",
    "            if(player1_win):\n",
    "                reward=1\n",
    "            else:\n",
    "                reward=-1\n",
    "            qtable[state_index][0]=(1-learning_rate)*state_index+learning_rate*reward\n",
    "        else:\n",
    "            if(player1_win):\n",
    "                reward=-1\n",
    "            else:\n",
    "                reward=1\n",
    "            qtable[state_index][1]=(1-learning_rate)*state_index+learning_rate*reward\n",
    "        state_index+=1\n",
    "    print(i+1)\n",
    "print(\"finish\")\n"
   ]
  },
  {
   "cell_type": "code",
   "execution_count": 81,
   "metadata": {},
   "outputs": [],
   "source": [
    "def training(epoch_number,qtable):\n",
    "    for i in range(epoch_number):#epoch number\n",
    "        state_index=0\n",
    "        for state in qtable:\n",
    "\n",
    "            #-------------------\n",
    "            #mettre ton code ici\n",
    "            player1_hand=state2hand(state_index) \n",
    "            #-------------------\n",
    "\n",
    "            #gen player2 and board cards\n",
    "            deck = treys.Deck()\n",
    "            deck.cards.remove(player1_hand[0])\n",
    "            deck.cards.remove(player1_hand[1])\n",
    "            board = deck.draw(5)\n",
    "            player2_hand = deck.draw(2)\n",
    "\n",
    "            #check who wins\n",
    "            player1_win=simulate(board,player1_hand,player2_hand) #take long long long tiiiiiiiime\n",
    "\n",
    "            #choose a random action\n",
    "            action=random.choice(actions)\n",
    "\n",
    "            #rewarding system\n",
    "            if(action==\"push\"):\n",
    "                if(player1_win):\n",
    "                    reward=1\n",
    "                else:\n",
    "                    reward=-1\n",
    "                qtable[state_index][0]=(1-learning_rate)*state_index+learning_rate*reward\n",
    "            else:\n",
    "                if(player1_win):\n",
    "                    reward=-1\n",
    "                else:\n",
    "                    reward=1\n",
    "                qtable[state_index][1]=(1-learning_rate)*state_index+learning_rate*reward\n",
    "            state_index+=1\n",
    "    return qtable"
   ]
  },
  {
   "cell_type": "code",
   "execution_count": 32,
   "metadata": {},
   "outputs": [],
   "source": [
    "def average(lst): \n",
    "    return sum(lst) / len(lst) "
   ]
  },
  {
   "cell_type": "code",
   "execution_count": 69,
   "metadata": {},
   "outputs": [],
   "source": [
    "def test(epoch_number,qtable):\n",
    "    reward_stat=[]\n",
    "    state_number=169\n",
    "\n",
    "    for i in range(epoch_number):#epoch number\n",
    "        state_index=random.randint(0,168)\n",
    "        #-------------------\n",
    "        #mettre ton code ici\n",
    "        player1_hand=state2hand(state_index) \n",
    "        #-------------------\n",
    "\n",
    "        #gen player2 and board cards\n",
    "        deck = treys.Deck()\n",
    "        deck.cards.remove(player1_hand[0])\n",
    "        deck.cards.remove(player1_hand[1])\n",
    "        board = deck.draw(5)\n",
    "        player2_hand = deck.draw(2)\n",
    "\n",
    "        #check who wins\n",
    "        player1_win=simulate(board,player1_hand,player2_hand)\n",
    "\n",
    "        #choose the best action\n",
    "        if(qtable[state_index][0]>qtable[state_index][1]):\n",
    "            action=actions[0]\n",
    "        elif(qtable[state_index][0]>qtable[state_index][1]):\n",
    "            action=actions[1]\n",
    "        else:\n",
    "            action=random.choice(actions)\n",
    "\n",
    "\n",
    "        #rewarding system\n",
    "        if(action==\"push\"):\n",
    "            if(player1_win):\n",
    "                reward_stat.append(1)\n",
    "            else:\n",
    "                reward_stat.append(-1)\n",
    "        else:\n",
    "            if(player1_win):\n",
    "                reward_stat.append(-1)\n",
    "            else:\n",
    "                reward_stat.append(1)\n",
    "    #plt.plot(reward_stat)\n",
    "    #plt.show()\n",
    "    return average(reward_stat)"
   ]
  },
  {
   "cell_type": "code",
   "execution_count": 75,
   "metadata": {},
   "outputs": [
    {
     "name": "stdout",
     "output_type": "stream",
     "text": [
      "0.262\n",
      "0.014\n"
     ]
    }
   ],
   "source": [
    "print(test(1000,qtable))\n",
    "print(test(1000,qtable_rand))"
   ]
  },
  {
   "cell_type": "code",
   "execution_count": 84,
   "metadata": {},
   "outputs": [],
   "source": [
    "#-------------------\n",
    "#mettre ton code ici\n",
    "learning_rate=0.1\n",
    "reward=0\n",
    "reward_stat=[]\n",
    "state_number=169\n",
    "\n",
    "qtable_train=np.zeros((state_number,2))\n",
    "#-------------------"
   ]
  },
  {
   "cell_type": "code",
   "execution_count": 85,
   "metadata": {},
   "outputs": [
    {
     "name": "stdout",
     "output_type": "stream",
     "text": [
      "0\n",
      "1\n",
      "2\n",
      "3\n",
      "4\n",
      "5\n",
      "6\n",
      "7\n",
      "8\n",
      "9\n"
     ]
    }
   ],
   "source": [
    "reward_stat=[]\n",
    "reward_stat.append(test(1000,qtable_train))\n",
    "for i in range(10):\n",
    "    qtable_train=training(10,qtable_train)\n",
    "    reward_stat.append(test(1000,qtable_train))\n",
    "    print(i)"
   ]
  },
  {
   "cell_type": "code",
   "execution_count": 86,
   "metadata": {},
   "outputs": [
    {
     "data": {
      "text/plain": [
       "[<matplotlib.lines.Line2D at 0x2b55a995b38>]"
      ]
     },
     "execution_count": 86,
     "metadata": {},
     "output_type": "execute_result"
    },
    {
     "data": {
      "image/png": "[encoded data removed]",
      "text/plain": [
       "<Figure size 432x288 with 1 Axes>"
      ]
     },
     "metadata": {
      "needs_background": "light"
     },
     "output_type": "display_data"
    }
   ],
   "source": [
    "plt.plot([0,10, 20, 30, 40,50,60,70,80,90,100],reward_stat)"
   ]
  },
  {
   "cell_type": "code",
   "execution_count": null,
   "metadata": {},
   "outputs": [],
   "source": [
    "deck = treys.Deck()\n",
    "print(deck)\n",
    "deck.cards.pop(0)\n",
    "print(deck)\n",
    "\n",
    "for i in range(0):\n",
    "    print(i)\n",
    "    boiard = deck.draw(5)"
   ]
  },
  {
   "cell_type": "code",
   "execution_count": null,
   "metadata": {},
   "outputs": [],
   "source": []
  },
  {
   "cell_type": "code",
   "execution_count": null,
   "metadata": {},
   "outputs": [],
   "source": []
  }
 ],
 "metadata": {
  "kernelspec": {
   "display_name": "Python 3",
   "language": "python",
   "name": "python3"
  },
  "language_info": {
   "codemirror_mode": {
    "name": "ipython",
    "version": 3
   },
   "file_extension": ".py",
   "mimetype": "text/x-python",
   "name": "python",
   "nbconvert_exporter": "python",
   "pygments_lexer": "ipython3",
   "version": "3.7.3"
  }
 },
 "nbformat": 4,
 "nbformat_minor": 2
}
